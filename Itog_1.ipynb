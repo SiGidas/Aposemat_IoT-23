{
 "cells": [
  {
   "cell_type": "markdown",
   "metadata": {},
   "source": [
    "# Библиотеки"
   ]
  },
  {
   "cell_type": "code",
   "execution_count": 1,
   "metadata": {},
   "outputs": [],
   "source": [
    "import pandas as pd\n",
    "import numpy as np\n",
    "import matplotlib.pyplot as plt\n",
    "import seaborn as sns\n",
    "from sklearn.model_selection import train_test_split\n",
    "from sklearn.model_selection import GridSearchCV\n",
    "# для подбора гипер параметров в моделях\n",
    "from sklearn.metrics import mean_absolute_error, mean_squared_error, accuracy_score, \\\n",
    "                            confusion_matrix\n",
    "# метрики с функциями потерь\n",
    "\n",
    "%matplotlib inline \n",
    "# отображает графику в юпитере\n",
    "%config IPCompleter.greedy=True \n",
    "# должно ускорять работу таба"
   ]
  },
  {
   "cell_type": "code",
   "execution_count": 2,
   "metadata": {},
   "outputs": [],
   "source": [
    "from sklearn.preprocessing import LabelEncoder\n",
    "from sklearn.preprocessing import OneHotEncoder\n",
    "from sklearn.compose import ColumnTransformer"
   ]
  },
  {
   "cell_type": "code",
   "execution_count": 4,
   "metadata": {},
   "outputs": [],
   "source": [
    "from sklearn.externals import joblib\n",
    "# для сохранения обученных моделей"
   ]
  },
  {
   "cell_type": "code",
   "execution_count": 5,
   "metadata": {},
   "outputs": [],
   "source": [
    "from sklearn.neighbors import KNeighborsClassifier\n",
    "from sklearn.naive_bayes import GaussianNB, BernoulliNB\n",
    "from sklearn.linear_model import LogisticRegression, RidgeClassifier, \\\n",
    "                                 PassiveAggressiveClassifier, \\\n",
    "                                 LogisticRegressionCV"
   ]
  },
  {
   "cell_type": "code",
   "execution_count": null,
   "metadata": {},
   "outputs": [],
   "source": []
  },
  {
   "cell_type": "code",
   "execution_count": 6,
   "metadata": {},
   "outputs": [],
   "source": [
    "big = pd.read_csv('BIG_1', sep = '\t')\n",
    "big = big.drop('Unnamed: 0', axis = 1)"
   ]
  },
  {
   "cell_type": "code",
   "execution_count": 8,
   "metadata": {},
   "outputs": [],
   "source": []
  },
  {
   "cell_type": "markdown",
   "metadata": {},
   "source": [
    "# Созданные функции"
   ]
  },
  {
   "cell_type": "code",
   "execution_count": 31,
   "metadata": {},
   "outputs": [],
   "source": [
    "def con_mat(y_test, y_pred):\n",
    "    array = confusion_matrix(y_test, y_pred)\n",
    "    df_cm = pd.DataFrame(array, index = ['-','Attack','C&C','C&C-FileDownload','C&C-HeartBeat','C&C-Mirai','C&C-Torii','DDoS', \\\n",
    "                                         'Okiru-Attack','Okiru','FileDownload','PartOfAHorizontalPortScan'],\n",
    "                      columns = ['-','Attack','C&C','C&C-FileDownload','C&C-HeartBeat','C&C-Mirai','C&C-Torii','DDoS', \\\n",
    "                                 'Okiru-Attack','Okiru','FileDownload','PartOfAHorizontalPortScan'])\n",
    "    plt.figure(figsize = (12,8))\n",
    "    sns.heatmap(df_cm, annot=True);\n",
    "# код для отображения матрицы ошибки"
   ]
  },
  {
   "cell_type": "code",
   "execution_count": null,
   "metadata": {},
   "outputs": [],
   "source": []
  },
  {
   "cell_type": "markdown",
   "metadata": {},
   "source": [
    "# Создание единого фрейма для дальнейшей работы"
   ]
  },
  {
   "cell_type": "code",
   "execution_count": 17,
   "metadata": {},
   "outputs": [
    {
     "data": {
      "text/plain": [
       "(452, 23)"
      ]
     },
     "execution_count": 17,
     "metadata": {},
     "output_type": "execute_result"
    }
   ],
   "source": [
    "big = pd.read_csv('IoT/CTU-Honeypot-Capture-4-1/conn.log.labeled', sep = '\t')\n",
    "big['time'] = pd.to_datetime(big['time'],unit='s')\n",
    "big.shape"
   ]
  },
  {
   "cell_type": "code",
   "execution_count": 18,
   "metadata": {},
   "outputs": [
    {
     "data": {
      "text/plain": [
       "(1826, 23)"
      ]
     },
     "execution_count": 18,
     "metadata": {},
     "output_type": "execute_result"
    }
   ],
   "source": [
    "df_new = pd.read_csv('IoT/CTU-Honeypot-Capture-5-1/conn.log.labeled', sep = '\t')\n",
    "df_new['time'] = pd.to_datetime(df_new['time'],unit='s')\n",
    "df_new['count']=df_new['count'].astype(object)\n",
    "df_new['count.1']=df_new['count.1'].astype(object)\n",
    "df_new['interval']=df_new['interval'].astype(object)\n",
    "big = big.merge(df_new, how='outer')\n",
    "big.shape"
   ]
  },
  {
   "cell_type": "code",
   "execution_count": 19,
   "metadata": {},
   "outputs": [
    {
     "data": {
      "text/plain": [
       "(1956, 23)"
      ]
     },
     "execution_count": 19,
     "metadata": {},
     "output_type": "execute_result"
    }
   ],
   "source": [
    "df_new = pd.read_csv('IoT/CTU-Honeypot-Capture-7-1/conn.log.labeled', sep = '\t')\n",
    "df_new['time'] = pd.to_datetime(df_new['time'],unit='s')\n",
    "df_new['count']=df_new['count'].astype(object)\n",
    "df_new['count.1']=df_new['count.1'].astype(object)\n",
    "df_new['interval']=df_new['interval'].astype(object)\n",
    "big = big.merge(df_new, how='outer')\n",
    "big.shape"
   ]
  },
  {
   "cell_type": "code",
   "execution_count": 20,
   "metadata": {},
   "outputs": [
    {
     "data": {
      "text/plain": [
       "(1010704, 23)"
      ]
     },
     "execution_count": 20,
     "metadata": {},
     "output_type": "execute_result"
    }
   ],
   "source": [
    "df_new = pd.read_csv('IoT/CTU-IoT-Malware-Capture-1-1/conn.log.labeled', sep = '\t')\n",
    "df_new['time'] = pd.to_datetime(df_new['time'],unit='s')\n",
    "df_new['count']=df_new['count'].astype(object)\n",
    "df_new['count.1']=df_new['count.1'].astype(object)\n",
    "df_new['interval']=df_new['interval'].astype(object)\n",
    "big = big.merge(df_new, how='outer')\n",
    "big.shape"
   ]
  },
  {
   "cell_type": "code",
   "execution_count": 21,
   "metadata": {},
   "outputs": [
    {
     "data": {
      "text/plain": [
       "(1166807, 23)"
      ]
     },
     "execution_count": 21,
     "metadata": {},
     "output_type": "execute_result"
    }
   ],
   "source": [
    "df_new = pd.read_csv('IoT/CTU-IoT-Malware-Capture-3-1/conn.log.labeled', sep = '\t')\n",
    "df_new['time'] = pd.to_datetime(df_new['time'],unit='s')\n",
    "df_new['count']=df_new['count'].astype(object)\n",
    "df_new['count.1']=df_new['count.1'].astype(object)\n",
    "df_new['interval']=df_new['interval'].astype(object)\n",
    "big = big.merge(df_new, how='outer')\n",
    "big.shape"
   ]
  },
  {
   "cell_type": "code",
   "execution_count": 22,
   "metadata": {},
   "outputs": [
    {
     "data": {
      "text/plain": [
       "(1177210, 23)"
      ]
     },
     "execution_count": 22,
     "metadata": {},
     "output_type": "execute_result"
    }
   ],
   "source": [
    "df_new = pd.read_csv('IoT/CTU-IoT-Malware-Capture-8-1/conn.log.labeled', sep = '\t')\n",
    "df_new['time'] = pd.to_datetime(df_new['time'],unit='s')\n",
    "df_new['count']=df_new['count'].astype(object)\n",
    "df_new['count.1']=df_new['count.1'].astype(object)\n",
    "df_new['interval']=df_new['interval'].astype(object)\n",
    "big = big.merge(df_new, how='outer')\n",
    "big.shape"
   ]
  },
  {
   "cell_type": "code",
   "execution_count": 23,
   "metadata": {},
   "outputs": [
    {
     "data": {
      "text/plain": [
       "(1180419, 23)"
      ]
     },
     "execution_count": 23,
     "metadata": {},
     "output_type": "execute_result"
    }
   ],
   "source": [
    "df_new = pd.read_csv('IoT/CTU-IoT-Malware-Capture-20-1/conn.log.labeled', sep = '\t')\n",
    "df_new['time'] = pd.to_datetime(df_new['time'],unit='s')\n",
    "df_new['count']=df_new['count'].astype(object)\n",
    "df_new['count.1']=df_new['count.1'].astype(object)\n",
    "df_new['interval']=df_new['interval'].astype(object)\n",
    "big = big.merge(df_new, how='outer')\n",
    "big.shape"
   ]
  },
  {
   "cell_type": "code",
   "execution_count": 24,
   "metadata": {},
   "outputs": [
    {
     "data": {
      "text/plain": [
       "(1183705, 23)"
      ]
     },
     "execution_count": 24,
     "metadata": {},
     "output_type": "execute_result"
    }
   ],
   "source": [
    "df_new = pd.read_csv('IoT/CTU-IoT-Malware-Capture-21-1/conn.log.labeled', sep = '\t')\n",
    "df_new['time'] = pd.to_datetime(df_new['time'],unit='s')\n",
    "df_new['count']=df_new['count'].astype(object)\n",
    "df_new['count.1']=df_new['count.1'].astype(object)\n",
    "df_new['interval']=df_new['interval'].astype(object)\n",
    "big = big.merge(df_new, how='outer')\n",
    "big.shape"
   ]
  },
  {
   "cell_type": "code",
   "execution_count": 25,
   "metadata": {},
   "outputs": [
    {
     "data": {
      "text/plain": [
       "(1206850, 23)"
      ]
     },
     "execution_count": 25,
     "metadata": {},
     "output_type": "execute_result"
    }
   ],
   "source": [
    "df_new = pd.read_csv('IoT/CTU-IoT-Malware-Capture-34-1/conn.log.labeled', sep = '\t')\n",
    "df_new['time'] = pd.to_datetime(df_new['time'],unit='s')\n",
    "df_new['count']=df_new['count'].astype(object)\n",
    "df_new['count.1']=df_new['count.1'].astype(object)\n",
    "df_new['interval']=df_new['interval'].astype(object)\n",
    "big = big.merge(df_new, how='outer')\n",
    "big.shape"
   ]
  },
  {
   "cell_type": "code",
   "execution_count": 26,
   "metadata": {},
   "outputs": [
    {
     "data": {
      "text/plain": [
       "(1211276, 23)"
      ]
     },
     "execution_count": 26,
     "metadata": {},
     "output_type": "execute_result"
    }
   ],
   "source": [
    "df_new = pd.read_csv('IoT/CTU-IoT-Malware-Capture-42-1/conn.log.labeled', sep = '\t')\n",
    "df_new['time'] = pd.to_datetime(df_new['time'],unit='s')\n",
    "df_new['count']=df_new['count'].astype(object)\n",
    "df_new['count.1']=df_new['count.1'].astype(object)\n",
    "df_new['interval']=df_new['interval'].astype(object)\n",
    "big = big.merge(df_new, how='outer')\n",
    "big.shape"
   ]
  },
  {
   "cell_type": "code",
   "execution_count": 27,
   "metadata": {},
   "outputs": [
    {
     "data": {
      "text/plain": [
       "(1211513, 23)"
      ]
     },
     "execution_count": 27,
     "metadata": {},
     "output_type": "execute_result"
    }
   ],
   "source": [
    "df_new = pd.read_csv('IoT/CTU-IoT-Malware-Capture-44-1/conn.log.labeled', sep = '\t')\n",
    "df_new['time'] = pd.to_datetime(df_new['time'],unit='s')\n",
    "df_new['count']=df_new['count'].astype(object)\n",
    "df_new['count.1']=df_new['count.1'].astype(object)\n",
    "df_new['interval']=df_new['interval'].astype(object)\n",
    "big = big.merge(df_new, how='outer')\n",
    "big.shape"
   ]
  },
  {
   "cell_type": "code",
   "execution_count": 28,
   "metadata": {},
   "outputs": [
    {
     "data": {
      "text/plain": [
       "(4792541, 23)"
      ]
     },
     "execution_count": 28,
     "metadata": {},
     "output_type": "execute_result"
    }
   ],
   "source": [
    "df_new = pd.read_csv('IoT/CTU-IoT-Malware-Capture-60-1/conn.log.labeled', sep = '\t')\n",
    "df_new['time'] = pd.to_datetime(df_new['time'],unit='s')\n",
    "df_new['count']=df_new['count'].astype(object)\n",
    "df_new['count.1']=df_new['count.1'].astype(object)\n",
    "df_new['interval']=df_new['interval'].astype(object)\n",
    "big = big.merge(df_new, how='outer')\n",
    "big.shape"
   ]
  },
  {
   "cell_type": "code",
   "execution_count": 29,
   "metadata": {},
   "outputs": [
    {
     "data": {
      "text/plain": [
       "DDoS                         3592852\n",
       "PartOfAHorizontalPortScan     685184\n",
       "-                             493443\n",
       "C&C                            14958\n",
       "Attack                          5962\n",
       "C&C-HeartBeat                     95\n",
       "C&C-Torii                         30\n",
       "C&C-FileDownload                  14\n",
       "FileDownload                       3\n",
       "Name: string.5, dtype: int64"
      ]
     },
     "execution_count": 29,
     "metadata": {},
     "output_type": "execute_result"
    }
   ],
   "source": [
    "big['string.5'].value_counts()"
   ]
  },
  {
   "cell_type": "code",
   "execution_count": 31,
   "metadata": {},
   "outputs": [],
   "source": [
    "# код для создания первой части (файла) большого файла\n",
    "f = open('IoT/CTU-IoT-Malware-Capture-17-1/17_1.log.labeled', 'r')\n",
    "g = open('IoT/CTU-IoT-Malware-Capture-17-1/17_0.log.labeled', 'w')\n",
    "sc = 0\n",
    "for line in f:\n",
    "    if sc < 1000001:\n",
    "        g.write(line)\n",
    "        sc += 1\n",
    "        continue\n",
    "    if 1000001 == sc:\n",
    "        break\n",
    "f.close()\n",
    "g.close()"
   ]
  },
  {
   "cell_type": "code",
   "execution_count": 32,
   "metadata": {},
   "outputs": [
    {
     "data": {
      "text/plain": [
       "(5792541, 23)"
      ]
     },
     "execution_count": 32,
     "metadata": {},
     "output_type": "execute_result"
    }
   ],
   "source": [
    "df_new = pd.read_csv('IoT/CTU-IoT-Malware-Capture-17-1/17_0.log.labeled', sep = '\t')\n",
    "df_new['time'] = pd.to_datetime(df_new['time'],unit='s')\n",
    "df_new['count']=df_new['count'].astype(object)\n",
    "df_new['count.1']=df_new['count.1'].astype(object)\n",
    "df_new['interval']=df_new['interval'].astype(object)\n",
    "big = big.merge(df_new, how='outer')\n",
    "big.shape"
   ]
  },
  {
   "cell_type": "code",
   "execution_count": 33,
   "metadata": {},
   "outputs": [
    {
     "data": {
      "text/plain": [
       "DDoS                         3842590\n",
       "PartOfAHorizontalPortScan    1184882\n",
       "-                             493988\n",
       "Okiru                         249903\n",
       "C&C                            14958\n",
       "Attack                          5962\n",
       "C&C-HeartBeat                    211\n",
       "C&C-Torii                         30\n",
       "C&C-FileDownload                  14\n",
       "FileDownload                       3\n",
       "Name: string.5, dtype: int64"
      ]
     },
     "execution_count": 33,
     "metadata": {},
     "output_type": "execute_result"
    }
   ],
   "source": [
    "big['string.5'].value_counts()"
   ]
  },
  {
   "cell_type": "code",
   "execution_count": 37,
   "metadata": {},
   "outputs": [],
   "source": [
    "# код для создания первой части (файла) большого файла\n",
    "f = open('IoT/CTU-IoT-Malware-Capture-7-1/conn.log.labeled', 'r')\n",
    "g = open('IoT/CTU-IoT-Malware-Capture-7-1/7_0.log.labeled', 'w')\n",
    "sc = 0\n",
    "for line in f:\n",
    "    if sc < 1000001:\n",
    "        g.write(line)\n",
    "        sc += 1\n",
    "        continue\n",
    "    if 1000001 == sc:\n",
    "        break\n",
    "f.close()\n",
    "g.close()"
   ]
  },
  {
   "cell_type": "code",
   "execution_count": 38,
   "metadata": {},
   "outputs": [
    {
     "data": {
      "text/plain": [
       "(6792541, 23)"
      ]
     },
     "execution_count": 38,
     "metadata": {},
     "output_type": "execute_result"
    }
   ],
   "source": [
    "df_new = pd.read_csv('IoT/CTU-IoT-Malware-Capture-7-1/7_0.log.labeled', sep = '\t')\n",
    "df_new['time'] = pd.to_datetime(df_new['time'],unit='s')\n",
    "df_new['count']=df_new['count'].astype(object)\n",
    "df_new['count.1']=df_new['count.1'].astype(object)\n",
    "df_new['interval']=df_new['interval'].astype(object)\n",
    "big = big.merge(df_new, how='outer')\n",
    "big.shape"
   ]
  },
  {
   "cell_type": "code",
   "execution_count": 39,
   "metadata": {},
   "outputs": [
    {
     "data": {
      "text/plain": [
       "DDoS                         3842590\n",
       "Okiru                        1247488\n",
       "PartOfAHorizontalPortScan    1184882\n",
       "-                             495280\n",
       "C&C                            14958\n",
       "Attack                          5962\n",
       "C&C-HeartBeat                   1334\n",
       "C&C-Torii                         30\n",
       "C&C-FileDownload                  14\n",
       "FileDownload                       3\n",
       "Name: string.5, dtype: int64"
      ]
     },
     "execution_count": 39,
     "metadata": {},
     "output_type": "execute_result"
    }
   ],
   "source": [
    "big['string.5'].value_counts()"
   ]
  },
  {
   "cell_type": "code",
   "execution_count": 40,
   "metadata": {},
   "outputs": [],
   "source": [
    "# код для создания первой части (файла) большого файла\n",
    "f = open('IoT/CTU-IoT-Malware-Capture-9-1/conn.log.labeled', 'r')\n",
    "g = open('IoT/CTU-IoT-Malware-Capture-9-1/9_0.log.labeled', 'w')\n",
    "sc = 0\n",
    "for line in f:\n",
    "    if sc < 1000001:\n",
    "        g.write(line)\n",
    "        sc += 1\n",
    "        continue\n",
    "    if 1000001 == sc:\n",
    "        break\n",
    "f.close()\n",
    "g.close()"
   ]
  },
  {
   "cell_type": "code",
   "execution_count": 41,
   "metadata": {},
   "outputs": [
    {
     "data": {
      "text/plain": [
       "(7792541, 23)"
      ]
     },
     "execution_count": 41,
     "metadata": {},
     "output_type": "execute_result"
    }
   ],
   "source": [
    "df_new = pd.read_csv('IoT/CTU-IoT-Malware-Capture-9-1/9_0.log.labeled', sep = '\t')\n",
    "df_new['time'] = pd.to_datetime(df_new['time'],unit='s')\n",
    "df_new['count']=df_new['count'].astype(object)\n",
    "df_new['count.1']=df_new['count.1'].astype(object)\n",
    "df_new['interval']=df_new['interval'].astype(object)\n",
    "big = big.merge(df_new, how='outer')\n",
    "big.shape"
   ]
  },
  {
   "cell_type": "code",
   "execution_count": 42,
   "metadata": {},
   "outputs": [
    {
     "data": {
      "text/plain": [
       "DDoS                         3842590\n",
       "PartOfAHorizontalPortScan    2180464\n",
       "Okiru                        1247488\n",
       "-                             499698\n",
       "C&C                            14958\n",
       "Attack                          5962\n",
       "C&C-HeartBeat                   1334\n",
       "C&C-Torii                         30\n",
       "C&C-FileDownload                  14\n",
       "FileDownload                       3\n",
       "Name: string.5, dtype: int64"
      ]
     },
     "execution_count": 42,
     "metadata": {},
     "output_type": "execute_result"
    }
   ],
   "source": [
    "big['string.5'].value_counts()"
   ]
  },
  {
   "cell_type": "code",
   "execution_count": 43,
   "metadata": {},
   "outputs": [],
   "source": [
    "# код для создания первой части (файла) большого файла\n",
    "f = open('IoT/CTU-IoT-Malware-Capture-33-1/conn.log.labeled', 'r')\n",
    "g = open('IoT/CTU-IoT-Malware-Capture-33-1/33_0.log.labeled', 'w')\n",
    "sc = 0\n",
    "for line in f:\n",
    "    if sc < 1000001:\n",
    "        g.write(line)\n",
    "        sc += 1\n",
    "        continue\n",
    "    if 1000001 == sc:\n",
    "        break\n",
    "f.close()\n",
    "g.close()"
   ]
  },
  {
   "cell_type": "code",
   "execution_count": 44,
   "metadata": {},
   "outputs": [
    {
     "data": {
      "text/plain": [
       "(8792541, 23)"
      ]
     },
     "execution_count": 44,
     "metadata": {},
     "output_type": "execute_result"
    }
   ],
   "source": [
    "df_new = pd.read_csv('IoT/CTU-IoT-Malware-Capture-33-1/33_0.log.labeled', sep = '\t')\n",
    "df_new['time'] = pd.to_datetime(df_new['time'],unit='s')\n",
    "df_new['count']=df_new['count'].astype(object)\n",
    "df_new['count.1']=df_new['count.1'].astype(object)\n",
    "df_new['interval']=df_new['interval'].astype(object)\n",
    "big = big.merge(df_new, how='outer')\n",
    "big.shape"
   ]
  },
  {
   "cell_type": "code",
   "execution_count": 45,
   "metadata": {},
   "outputs": [
    {
     "data": {
      "text/plain": [
       "DDoS                         3842590\n",
       "PartOfAHorizontalPortScan    2904743\n",
       "Okiru                        1497646\n",
       "-                             525179\n",
       "C&C                            14958\n",
       "Attack                          5962\n",
       "C&C-HeartBeat                   1416\n",
       "C&C-Torii                         30\n",
       "C&C-FileDownload                  14\n",
       "FileDownload                       3\n",
       "Name: string.5, dtype: int64"
      ]
     },
     "execution_count": 45,
     "metadata": {},
     "output_type": "execute_result"
    }
   ],
   "source": [
    "big['string.5'].value_counts()"
   ]
  },
  {
   "cell_type": "code",
   "execution_count": 46,
   "metadata": {},
   "outputs": [],
   "source": [
    "# код для создания первой части (файла) большого файла\n",
    "f = open('IoT/CTU-IoT-Malware-Capture-36-1/conn.log.labeled', 'r')\n",
    "g = open('IoT/CTU-IoT-Malware-Capture-36-1/36_0.log.labeled', 'w')\n",
    "sc = 0\n",
    "for line in f:\n",
    "    if sc < 1000001:\n",
    "        g.write(line)\n",
    "        sc += 1\n",
    "        continue\n",
    "    if 1000001 == sc:\n",
    "        break\n",
    "f.close()\n",
    "g.close()"
   ]
  },
  {
   "cell_type": "code",
   "execution_count": 47,
   "metadata": {},
   "outputs": [
    {
     "data": {
      "text/plain": [
       "(9792541, 23)"
      ]
     },
     "execution_count": 47,
     "metadata": {},
     "output_type": "execute_result"
    }
   ],
   "source": [
    "df_new = pd.read_csv('IoT/CTU-IoT-Malware-Capture-36-1/36_0.log.labeled', sep = '\t')\n",
    "df_new['time'] = pd.to_datetime(df_new['time'],unit='s')\n",
    "df_new['count']=df_new['count'].astype(object)\n",
    "df_new['count.1']=df_new['count.1'].astype(object)\n",
    "df_new['interval']=df_new['interval'].astype(object)\n",
    "big = big.merge(df_new, how='outer')\n",
    "big.shape"
   ]
  },
  {
   "cell_type": "code",
   "execution_count": 48,
   "metadata": {},
   "outputs": [
    {
     "data": {
      "text/plain": [
       "DDoS                         3842590\n",
       "PartOfAHorizontalPortScan    2904743\n",
       "Okiru                        2496307\n",
       "-                             525367\n",
       "C&C                            14958\n",
       "Attack                          5962\n",
       "C&C-HeartBeat                   2564\n",
       "C&C-Torii                         30\n",
       "C&C-FileDownload                  14\n",
       "Okiru-Attack                       3\n",
       "FileDownload                       3\n",
       "Name: string.5, dtype: int64"
      ]
     },
     "execution_count": 48,
     "metadata": {},
     "output_type": "execute_result"
    }
   ],
   "source": [
    "big['string.5'].value_counts()"
   ]
  },
  {
   "cell_type": "code",
   "execution_count": 49,
   "metadata": {},
   "outputs": [],
   "source": [
    "# код для создания первой части (файла) большого файла\n",
    "f = open('IoT/CTU-IoT-Malware-Capture-52-1/conn.log.labeled', 'r')\n",
    "g = open('IoT/CTU-IoT-Malware-Capture-52-1/52_0.log.labeled', 'w')\n",
    "sc = 0\n",
    "for line in f:\n",
    "    if sc < 1000001:\n",
    "        g.write(line)\n",
    "        sc += 1\n",
    "        continue\n",
    "    if 1000001 == sc:\n",
    "        break\n",
    "f.close()\n",
    "g.close()"
   ]
  },
  {
   "cell_type": "code",
   "execution_count": 50,
   "metadata": {},
   "outputs": [
    {
     "data": {
      "text/plain": [
       "(10792541, 23)"
      ]
     },
     "execution_count": 50,
     "metadata": {},
     "output_type": "execute_result"
    }
   ],
   "source": [
    "df_new = pd.read_csv('IoT/CTU-IoT-Malware-Capture-52-1/52_0.log.labeled', sep = '\t')\n",
    "df_new['time'] = pd.to_datetime(df_new['time'],unit='s')\n",
    "df_new['count']=df_new['count'].astype(object)\n",
    "df_new['count.1']=df_new['count.1'].astype(object)\n",
    "df_new['interval']=df_new['interval'].astype(object)\n",
    "big = big.merge(df_new, how='outer')\n",
    "big.shape"
   ]
  },
  {
   "cell_type": "code",
   "execution_count": 51,
   "metadata": {
    "scrolled": false
   },
   "outputs": [
    {
     "data": {
      "text/plain": [
       "PartOfAHorizontalPortScan    3904635\n",
       "DDoS                         3842590\n",
       "Okiru                        2496307\n",
       "-                             525456\n",
       "C&C                            14964\n",
       "Attack                          5962\n",
       "C&C-HeartBeat                   2564\n",
       "C&C-Torii                         30\n",
       "C&C-FileDownload                  26\n",
       "FileDownload                       3\n",
       "Okiru-Attack                       3\n",
       "C&C-Mirai                          1\n",
       "Name: string.5, dtype: int64"
      ]
     },
     "execution_count": 51,
     "metadata": {},
     "output_type": "execute_result"
    }
   ],
   "source": [
    "big['string.5'].value_counts()"
   ]
  },
  {
   "cell_type": "code",
   "execution_count": 63,
   "metadata": {},
   "outputs": [],
   "source": [
    "big.to_csv('BIG', sep = '\t')"
   ]
  },
  {
   "cell_type": "code",
   "execution_count": null,
   "metadata": {},
   "outputs": [],
   "source": []
  },
  {
   "cell_type": "markdown",
   "metadata": {},
   "source": [
    "# Анализ полученного фрейма"
   ]
  },
  {
   "cell_type": "code",
   "execution_count": 74,
   "metadata": {},
   "outputs": [],
   "source": [
    "plt.rcParams['figure.figsize'] = [8, 8]"
   ]
  },
  {
   "cell_type": "code",
   "execution_count": 60,
   "metadata": {
    "scrolled": true
   },
   "outputs": [
    {
     "data": {
      "image/png": "[encoded data removed]",
      "text/plain": [
       "<Figure size 1296x432 with 1 Axes>"
      ]
     },
     "metadata": {
      "needs_background": "light"
     },
     "output_type": "display_data"
    }
   ],
   "source": [
    "big['string.5'].hist();"
   ]
  },
  {
   "cell_type": "code",
   "execution_count": 64,
   "metadata": {},
   "outputs": [
    {
     "data": {
      "text/html": [
       "<div>\n",
       "<style scoped>\n",
       "    .dataframe tbody tr th:only-of-type {\n",
       "        vertical-align: middle;\n",
       "    }\n",
       "\n",
       "    .dataframe tbody tr th {\n",
       "        vertical-align: top;\n",
       "    }\n",
       "\n",
       "    .dataframe thead th {\n",
       "        text-align: right;\n",
       "    }\n",
       "</style>\n",
       "<table border=\"1\" class=\"dataframe\">\n",
       "  <thead>\n",
       "    <tr style=\"text-align: right;\">\n",
       "      <th></th>\n",
       "      <th>time</th>\n",
       "      <th>string</th>\n",
       "      <th>addr</th>\n",
       "      <th>port</th>\n",
       "      <th>addr.1</th>\n",
       "      <th>port.1</th>\n",
       "      <th>enum</th>\n",
       "      <th>string.1</th>\n",
       "      <th>interval</th>\n",
       "      <th>count</th>\n",
       "      <th>...</th>\n",
       "      <th>bool.1</th>\n",
       "      <th>count.2</th>\n",
       "      <th>string.3</th>\n",
       "      <th>count.3</th>\n",
       "      <th>count.4</th>\n",
       "      <th>count.5</th>\n",
       "      <th>count.6</th>\n",
       "      <th>set[string]</th>\n",
       "      <th>string.4</th>\n",
       "      <th>string.5</th>\n",
       "    </tr>\n",
       "  </thead>\n",
       "  <tbody>\n",
       "    <tr>\n",
       "      <td>0</td>\n",
       "      <td>2018-10-25 12:08:22.538640022</td>\n",
       "      <td>CGm6jB4dXK71ZDWUDh</td>\n",
       "      <td>192.168.1.132</td>\n",
       "      <td>58687</td>\n",
       "      <td>216.239.35.4</td>\n",
       "      <td>123</td>\n",
       "      <td>udp</td>\n",
       "      <td>-</td>\n",
       "      <td>0.114184</td>\n",
       "      <td>48</td>\n",
       "      <td>...</td>\n",
       "      <td>-</td>\n",
       "      <td>0</td>\n",
       "      <td>Dd</td>\n",
       "      <td>1</td>\n",
       "      <td>76</td>\n",
       "      <td>1</td>\n",
       "      <td>76</td>\n",
       "      <td>-</td>\n",
       "      <td>benign</td>\n",
       "      <td>-</td>\n",
       "    </tr>\n",
       "    <tr>\n",
       "      <td>1</td>\n",
       "      <td>2018-10-25 12:06:37.400158882</td>\n",
       "      <td>CnaDAG3n5r8eiG4su2</td>\n",
       "      <td>192.168.1.132</td>\n",
       "      <td>1900</td>\n",
       "      <td>239.255.255.250</td>\n",
       "      <td>1900</td>\n",
       "      <td>udp</td>\n",
       "      <td>-</td>\n",
       "      <td>160.367579</td>\n",
       "      <td>7536</td>\n",
       "      <td>...</td>\n",
       "      <td>-</td>\n",
       "      <td>0</td>\n",
       "      <td>D</td>\n",
       "      <td>24</td>\n",
       "      <td>8208</td>\n",
       "      <td>0</td>\n",
       "      <td>0</td>\n",
       "      <td>-</td>\n",
       "      <td>benign</td>\n",
       "      <td>-</td>\n",
       "    </tr>\n",
       "    <tr>\n",
       "      <td>2</td>\n",
       "      <td>2018-10-25 12:09:45.734089136</td>\n",
       "      <td>CUrxU238nt0m6yTgKf</td>\n",
       "      <td>192.168.1.132</td>\n",
       "      <td>32893</td>\n",
       "      <td>216.239.35.8</td>\n",
       "      <td>123</td>\n",
       "      <td>udp</td>\n",
       "      <td>-</td>\n",
       "      <td>0.016986</td>\n",
       "      <td>48</td>\n",
       "      <td>...</td>\n",
       "      <td>-</td>\n",
       "      <td>0</td>\n",
       "      <td>Dd</td>\n",
       "      <td>1</td>\n",
       "      <td>76</td>\n",
       "      <td>1</td>\n",
       "      <td>76</td>\n",
       "      <td>-</td>\n",
       "      <td>benign</td>\n",
       "      <td>-</td>\n",
       "    </tr>\n",
       "    <tr>\n",
       "      <td>3</td>\n",
       "      <td>2018-10-25 12:17:11.302624941</td>\n",
       "      <td>CGQf8t1kjdxB5PHXL4</td>\n",
       "      <td>192.168.1.132</td>\n",
       "      <td>53395</td>\n",
       "      <td>2.16.60.82</td>\n",
       "      <td>443</td>\n",
       "      <td>tcp</td>\n",
       "      <td>-</td>\n",
       "      <td>0.003497</td>\n",
       "      <td>0</td>\n",
       "      <td>...</td>\n",
       "      <td>-</td>\n",
       "      <td>0</td>\n",
       "      <td>ShAFf</td>\n",
       "      <td>5</td>\n",
       "      <td>212</td>\n",
       "      <td>3</td>\n",
       "      <td>144</td>\n",
       "      <td>-</td>\n",
       "      <td>benign</td>\n",
       "      <td>-</td>\n",
       "    </tr>\n",
       "    <tr>\n",
       "      <td>4</td>\n",
       "      <td>2018-10-25 12:17:11.265405178</td>\n",
       "      <td>CUo9DH2QDnCaBIGjkg</td>\n",
       "      <td>192.168.1.132</td>\n",
       "      <td>52801</td>\n",
       "      <td>192.168.1.1</td>\n",
       "      <td>53</td>\n",
       "      <td>udp</td>\n",
       "      <td>dns</td>\n",
       "      <td>0.036724</td>\n",
       "      <td>34</td>\n",
       "      <td>...</td>\n",
       "      <td>-</td>\n",
       "      <td>0</td>\n",
       "      <td>Dd</td>\n",
       "      <td>1</td>\n",
       "      <td>62</td>\n",
       "      <td>1</td>\n",
       "      <td>339</td>\n",
       "      <td>-</td>\n",
       "      <td>benign</td>\n",
       "      <td>-</td>\n",
       "    </tr>\n",
       "    <tr>\n",
       "      <td>...</td>\n",
       "      <td>...</td>\n",
       "      <td>...</td>\n",
       "      <td>...</td>\n",
       "      <td>...</td>\n",
       "      <td>...</td>\n",
       "      <td>...</td>\n",
       "      <td>...</td>\n",
       "      <td>...</td>\n",
       "      <td>...</td>\n",
       "      <td>...</td>\n",
       "      <td>...</td>\n",
       "      <td>...</td>\n",
       "      <td>...</td>\n",
       "      <td>...</td>\n",
       "      <td>...</td>\n",
       "      <td>...</td>\n",
       "      <td>...</td>\n",
       "      <td>...</td>\n",
       "      <td>...</td>\n",
       "      <td>...</td>\n",
       "      <td>...</td>\n",
       "    </tr>\n",
       "    <tr>\n",
       "      <td>10792536</td>\n",
       "      <td>2019-03-08 13:10:06.435873032</td>\n",
       "      <td>C2fgaa2EuCEWfAedb5</td>\n",
       "      <td>192.168.1.197</td>\n",
       "      <td>63420</td>\n",
       "      <td>146.215.252.66</td>\n",
       "      <td>23</td>\n",
       "      <td>tcp</td>\n",
       "      <td>-</td>\n",
       "      <td>6e-06</td>\n",
       "      <td>0</td>\n",
       "      <td>...</td>\n",
       "      <td>-</td>\n",
       "      <td>0</td>\n",
       "      <td>S</td>\n",
       "      <td>2</td>\n",
       "      <td>80</td>\n",
       "      <td>0</td>\n",
       "      <td>0</td>\n",
       "      <td>-</td>\n",
       "      <td>Malicious</td>\n",
       "      <td>PartOfAHorizontalPortScan</td>\n",
       "    </tr>\n",
       "    <tr>\n",
       "      <td>10792537</td>\n",
       "      <td>2019-03-08 13:10:06.435881138</td>\n",
       "      <td>CVG6Vlcv6SEyx0rYb</td>\n",
       "      <td>192.168.1.197</td>\n",
       "      <td>63420</td>\n",
       "      <td>165.133.152.183</td>\n",
       "      <td>23</td>\n",
       "      <td>tcp</td>\n",
       "      <td>-</td>\n",
       "      <td>2e-06</td>\n",
       "      <td>0</td>\n",
       "      <td>...</td>\n",
       "      <td>-</td>\n",
       "      <td>0</td>\n",
       "      <td>S</td>\n",
       "      <td>2</td>\n",
       "      <td>80</td>\n",
       "      <td>0</td>\n",
       "      <td>0</td>\n",
       "      <td>-</td>\n",
       "      <td>Malicious</td>\n",
       "      <td>PartOfAHorizontalPortScan</td>\n",
       "    </tr>\n",
       "    <tr>\n",
       "      <td>10792538</td>\n",
       "      <td>2019-03-08 13:10:06.435884953</td>\n",
       "      <td>ChW53QIrMjqnGtmDl</td>\n",
       "      <td>192.168.1.197</td>\n",
       "      <td>63420</td>\n",
       "      <td>171.153.103.80</td>\n",
       "      <td>23</td>\n",
       "      <td>tcp</td>\n",
       "      <td>-</td>\n",
       "      <td>2e-06</td>\n",
       "      <td>0</td>\n",
       "      <td>...</td>\n",
       "      <td>-</td>\n",
       "      <td>0</td>\n",
       "      <td>S</td>\n",
       "      <td>2</td>\n",
       "      <td>80</td>\n",
       "      <td>0</td>\n",
       "      <td>0</td>\n",
       "      <td>-</td>\n",
       "      <td>Malicious</td>\n",
       "      <td>PartOfAHorizontalPortScan</td>\n",
       "    </tr>\n",
       "    <tr>\n",
       "      <td>10792539</td>\n",
       "      <td>2019-03-08 13:10:06.435889006</td>\n",
       "      <td>CcwTuv4y8TTNZvJb2k</td>\n",
       "      <td>192.168.1.197</td>\n",
       "      <td>63420</td>\n",
       "      <td>185.134.125.90</td>\n",
       "      <td>23</td>\n",
       "      <td>tcp</td>\n",
       "      <td>-</td>\n",
       "      <td>2e-06</td>\n",
       "      <td>0</td>\n",
       "      <td>...</td>\n",
       "      <td>-</td>\n",
       "      <td>0</td>\n",
       "      <td>S</td>\n",
       "      <td>2</td>\n",
       "      <td>80</td>\n",
       "      <td>0</td>\n",
       "      <td>0</td>\n",
       "      <td>-</td>\n",
       "      <td>Malicious</td>\n",
       "      <td>PartOfAHorizontalPortScan</td>\n",
       "    </tr>\n",
       "    <tr>\n",
       "      <td>10792540</td>\n",
       "      <td>2019-03-08 13:10:06.435893059</td>\n",
       "      <td>CTBWLX30k3tF2930Xa</td>\n",
       "      <td>192.168.1.197</td>\n",
       "      <td>63420</td>\n",
       "      <td>100.18.47.215</td>\n",
       "      <td>23</td>\n",
       "      <td>tcp</td>\n",
       "      <td>-</td>\n",
       "      <td>2e-06</td>\n",
       "      <td>0</td>\n",
       "      <td>...</td>\n",
       "      <td>-</td>\n",
       "      <td>0</td>\n",
       "      <td>S</td>\n",
       "      <td>2</td>\n",
       "      <td>80</td>\n",
       "      <td>0</td>\n",
       "      <td>0</td>\n",
       "      <td>-</td>\n",
       "      <td>Malicious</td>\n",
       "      <td>PartOfAHorizontalPortScan</td>\n",
       "    </tr>\n",
       "  </tbody>\n",
       "</table>\n",
       "<p>10792541 rows × 23 columns</p>\n",
       "</div>"
      ],
      "text/plain": [
       "                                  time              string           addr  \\\n",
       "0        2018-10-25 12:08:22.538640022  CGm6jB4dXK71ZDWUDh  192.168.1.132   \n",
       "1        2018-10-25 12:06:37.400158882  CnaDAG3n5r8eiG4su2  192.168.1.132   \n",
       "2        2018-10-25 12:09:45.734089136  CUrxU238nt0m6yTgKf  192.168.1.132   \n",
       "3        2018-10-25 12:17:11.302624941  CGQf8t1kjdxB5PHXL4  192.168.1.132   \n",
       "4        2018-10-25 12:17:11.265405178  CUo9DH2QDnCaBIGjkg  192.168.1.132   \n",
       "...                                ...                 ...            ...   \n",
       "10792536 2019-03-08 13:10:06.435873032  C2fgaa2EuCEWfAedb5  192.168.1.197   \n",
       "10792537 2019-03-08 13:10:06.435881138   CVG6Vlcv6SEyx0rYb  192.168.1.197   \n",
       "10792538 2019-03-08 13:10:06.435884953   ChW53QIrMjqnGtmDl  192.168.1.197   \n",
       "10792539 2019-03-08 13:10:06.435889006  CcwTuv4y8TTNZvJb2k  192.168.1.197   \n",
       "10792540 2019-03-08 13:10:06.435893059  CTBWLX30k3tF2930Xa  192.168.1.197   \n",
       "\n",
       "           port           addr.1  port.1 enum string.1    interval count  ...  \\\n",
       "0         58687     216.239.35.4     123  udp        -    0.114184    48  ...   \n",
       "1          1900  239.255.255.250    1900  udp        -  160.367579  7536  ...   \n",
       "2         32893     216.239.35.8     123  udp        -    0.016986    48  ...   \n",
       "3         53395       2.16.60.82     443  tcp        -    0.003497     0  ...   \n",
       "4         52801      192.168.1.1      53  udp      dns    0.036724    34  ...   \n",
       "...         ...              ...     ...  ...      ...         ...   ...  ...   \n",
       "10792536  63420   146.215.252.66      23  tcp        -       6e-06     0  ...   \n",
       "10792537  63420  165.133.152.183      23  tcp        -       2e-06     0  ...   \n",
       "10792538  63420   171.153.103.80      23  tcp        -       2e-06     0  ...   \n",
       "10792539  63420   185.134.125.90      23  tcp        -       2e-06     0  ...   \n",
       "10792540  63420    100.18.47.215      23  tcp        -       2e-06     0  ...   \n",
       "\n",
       "         bool.1 count.2 string.3 count.3  count.4 count.5  count.6  \\\n",
       "0             -       0       Dd       1       76       1       76   \n",
       "1             -       0        D      24     8208       0        0   \n",
       "2             -       0       Dd       1       76       1       76   \n",
       "3             -       0    ShAFf       5      212       3      144   \n",
       "4             -       0       Dd       1       62       1      339   \n",
       "...         ...     ...      ...     ...      ...     ...      ...   \n",
       "10792536      -       0        S       2       80       0        0   \n",
       "10792537      -       0        S       2       80       0        0   \n",
       "10792538      -       0        S       2       80       0        0   \n",
       "10792539      -       0        S       2       80       0        0   \n",
       "10792540      -       0        S       2       80       0        0   \n",
       "\n",
       "          set[string]   string.4                   string.5  \n",
       "0                   -     benign                          -  \n",
       "1                   -     benign                          -  \n",
       "2                   -     benign                          -  \n",
       "3                   -     benign                          -  \n",
       "4                   -     benign                          -  \n",
       "...               ...        ...                        ...  \n",
       "10792536            -  Malicious  PartOfAHorizontalPortScan  \n",
       "10792537            -  Malicious  PartOfAHorizontalPortScan  \n",
       "10792538            -  Malicious  PartOfAHorizontalPortScan  \n",
       "10792539            -  Malicious  PartOfAHorizontalPortScan  \n",
       "10792540            -  Malicious  PartOfAHorizontalPortScan  \n",
       "\n",
       "[10792541 rows x 23 columns]"
      ]
     },
     "execution_count": 64,
     "metadata": {},
     "output_type": "execute_result"
    }
   ],
   "source": [
    "big"
   ]
  },
  {
   "cell_type": "code",
   "execution_count": 65,
   "metadata": {},
   "outputs": [
    {
     "data": {
      "image/png": "[encoded data removed]",
      "text/plain": [
       "<Figure size 1296x432 with 1 Axes>"
      ]
     },
     "metadata": {
      "needs_background": "light"
     },
     "output_type": "display_data"
    }
   ],
   "source": [
    "date = big['time'].apply(lambda x: x.date()).sort_values()\n",
    "sns.countplot(x = date, hue = 'string.5', data = big);"
   ]
  },
  {
   "cell_type": "code",
   "execution_count": 66,
   "metadata": {},
   "outputs": [
    {
     "data": {
      "text/html": [
       "<div>\n",
       "<style scoped>\n",
       "    .dataframe tbody tr th:only-of-type {\n",
       "        vertical-align: middle;\n",
       "    }\n",
       "\n",
       "    .dataframe tbody tr th {\n",
       "        vertical-align: top;\n",
       "    }\n",
       "\n",
       "    .dataframe thead th {\n",
       "        text-align: right;\n",
       "    }\n",
       "</style>\n",
       "<table border=\"1\" class=\"dataframe\">\n",
       "  <thead>\n",
       "    <tr style=\"text-align: right;\">\n",
       "      <th></th>\n",
       "      <th>port</th>\n",
       "      <th>port.1</th>\n",
       "      <th>count.2</th>\n",
       "      <th>count.3</th>\n",
       "      <th>count.4</th>\n",
       "      <th>count.5</th>\n",
       "      <th>count.6</th>\n",
       "    </tr>\n",
       "  </thead>\n",
       "  <tbody>\n",
       "    <tr>\n",
       "      <td>count</td>\n",
       "      <td>1.079254e+07</td>\n",
       "      <td>1.079254e+07</td>\n",
       "      <td>1.079254e+07</td>\n",
       "      <td>1.079254e+07</td>\n",
       "      <td>1.079254e+07</td>\n",
       "      <td>1.079254e+07</td>\n",
       "      <td>1.079254e+07</td>\n",
       "    </tr>\n",
       "    <tr>\n",
       "      <td>mean</td>\n",
       "      <td>3.412771e+04</td>\n",
       "      <td>3.382816e+04</td>\n",
       "      <td>1.980479e-02</td>\n",
       "      <td>2.586435e+01</td>\n",
       "      <td>1.112774e+03</td>\n",
       "      <td>5.518274e-02</td>\n",
       "      <td>3.662974e+01</td>\n",
       "    </tr>\n",
       "    <tr>\n",
       "      <td>std</td>\n",
       "      <td>1.904572e+04</td>\n",
       "      <td>2.580571e+04</td>\n",
       "      <td>1.297915e+01</td>\n",
       "      <td>2.653295e+04</td>\n",
       "      <td>1.044566e+06</td>\n",
       "      <td>7.320815e+01</td>\n",
       "      <td>1.064325e+05</td>\n",
       "    </tr>\n",
       "    <tr>\n",
       "      <td>min</td>\n",
       "      <td>0.000000e+00</td>\n",
       "      <td>0.000000e+00</td>\n",
       "      <td>0.000000e+00</td>\n",
       "      <td>0.000000e+00</td>\n",
       "      <td>0.000000e+00</td>\n",
       "      <td>0.000000e+00</td>\n",
       "      <td>0.000000e+00</td>\n",
       "    </tr>\n",
       "    <tr>\n",
       "      <td>25%</td>\n",
       "      <td>1.783200e+04</td>\n",
       "      <td>8.100000e+01</td>\n",
       "      <td>0.000000e+00</td>\n",
       "      <td>0.000000e+00</td>\n",
       "      <td>0.000000e+00</td>\n",
       "      <td>0.000000e+00</td>\n",
       "      <td>0.000000e+00</td>\n",
       "    </tr>\n",
       "    <tr>\n",
       "      <td>50%</td>\n",
       "      <td>3.609700e+04</td>\n",
       "      <td>3.721500e+04</td>\n",
       "      <td>0.000000e+00</td>\n",
       "      <td>1.000000e+00</td>\n",
       "      <td>4.000000e+01</td>\n",
       "      <td>0.000000e+00</td>\n",
       "      <td>0.000000e+00</td>\n",
       "    </tr>\n",
       "    <tr>\n",
       "      <td>75%</td>\n",
       "      <td>4.693000e+04</td>\n",
       "      <td>6.233600e+04</td>\n",
       "      <td>0.000000e+00</td>\n",
       "      <td>1.000000e+00</td>\n",
       "      <td>6.000000e+01</td>\n",
       "      <td>0.000000e+00</td>\n",
       "      <td>0.000000e+00</td>\n",
       "    </tr>\n",
       "    <tr>\n",
       "      <td>max</td>\n",
       "      <td>6.553500e+04</td>\n",
       "      <td>6.553500e+04</td>\n",
       "      <td>2.027200e+04</td>\n",
       "      <td>6.602735e+07</td>\n",
       "      <td>1.914793e+09</td>\n",
       "      <td>2.394840e+05</td>\n",
       "      <td>3.496187e+08</td>\n",
       "    </tr>\n",
       "  </tbody>\n",
       "</table>\n",
       "</div>"
      ],
      "text/plain": [
       "               port        port.1       count.2       count.3       count.4  \\\n",
       "count  1.079254e+07  1.079254e+07  1.079254e+07  1.079254e+07  1.079254e+07   \n",
       "mean   3.412771e+04  3.382816e+04  1.980479e-02  2.586435e+01  1.112774e+03   \n",
       "std    1.904572e+04  2.580571e+04  1.297915e+01  2.653295e+04  1.044566e+06   \n",
       "min    0.000000e+00  0.000000e+00  0.000000e+00  0.000000e+00  0.000000e+00   \n",
       "25%    1.783200e+04  8.100000e+01  0.000000e+00  0.000000e+00  0.000000e+00   \n",
       "50%    3.609700e+04  3.721500e+04  0.000000e+00  1.000000e+00  4.000000e+01   \n",
       "75%    4.693000e+04  6.233600e+04  0.000000e+00  1.000000e+00  6.000000e+01   \n",
       "max    6.553500e+04  6.553500e+04  2.027200e+04  6.602735e+07  1.914793e+09   \n",
       "\n",
       "            count.5       count.6  \n",
       "count  1.079254e+07  1.079254e+07  \n",
       "mean   5.518274e-02  3.662974e+01  \n",
       "std    7.320815e+01  1.064325e+05  \n",
       "min    0.000000e+00  0.000000e+00  \n",
       "25%    0.000000e+00  0.000000e+00  \n",
       "50%    0.000000e+00  0.000000e+00  \n",
       "75%    0.000000e+00  0.000000e+00  \n",
       "max    2.394840e+05  3.496187e+08  "
      ]
     },
     "execution_count": 66,
     "metadata": {},
     "output_type": "execute_result"
    }
   ],
   "source": [
    "big.describe()"
   ]
  },
  {
   "cell_type": "code",
   "execution_count": 67,
   "metadata": {},
   "outputs": [
    {
     "data": {
      "text/html": [
       "<div>\n",
       "<style scoped>\n",
       "    .dataframe tbody tr th:only-of-type {\n",
       "        vertical-align: middle;\n",
       "    }\n",
       "\n",
       "    .dataframe tbody tr th {\n",
       "        vertical-align: top;\n",
       "    }\n",
       "\n",
       "    .dataframe thead th {\n",
       "        text-align: right;\n",
       "    }\n",
       "</style>\n",
       "<table border=\"1\" class=\"dataframe\">\n",
       "  <thead>\n",
       "    <tr style=\"text-align: right;\">\n",
       "      <th></th>\n",
       "      <th>port</th>\n",
       "      <th>port.1</th>\n",
       "      <th>count.2</th>\n",
       "      <th>count.3</th>\n",
       "      <th>count.4</th>\n",
       "      <th>count.5</th>\n",
       "      <th>count.6</th>\n",
       "    </tr>\n",
       "  </thead>\n",
       "  <tbody>\n",
       "    <tr>\n",
       "      <td>port</td>\n",
       "      <td>1.000000</td>\n",
       "      <td>-0.247391</td>\n",
       "      <td>0.001492</td>\n",
       "      <td>0.000664</td>\n",
       "      <td>0.000614</td>\n",
       "      <td>0.000457</td>\n",
       "      <td>0.000256</td>\n",
       "    </tr>\n",
       "    <tr>\n",
       "      <td>port.1</td>\n",
       "      <td>-0.247391</td>\n",
       "      <td>1.000000</td>\n",
       "      <td>-0.001994</td>\n",
       "      <td>-0.001083</td>\n",
       "      <td>-0.001079</td>\n",
       "      <td>-0.000950</td>\n",
       "      <td>-0.000444</td>\n",
       "    </tr>\n",
       "    <tr>\n",
       "      <td>count.2</td>\n",
       "      <td>0.001492</td>\n",
       "      <td>-0.001994</td>\n",
       "      <td>1.000000</td>\n",
       "      <td>0.000033</td>\n",
       "      <td>0.000038</td>\n",
       "      <td>0.013098</td>\n",
       "      <td>0.001898</td>\n",
       "    </tr>\n",
       "    <tr>\n",
       "      <td>count.3</td>\n",
       "      <td>0.000664</td>\n",
       "      <td>-0.001083</td>\n",
       "      <td>0.000033</td>\n",
       "      <td>1.000000</td>\n",
       "      <td>0.804756</td>\n",
       "      <td>0.001434</td>\n",
       "      <td>0.001420</td>\n",
       "    </tr>\n",
       "    <tr>\n",
       "      <td>count.4</td>\n",
       "      <td>0.000614</td>\n",
       "      <td>-0.001079</td>\n",
       "      <td>0.000038</td>\n",
       "      <td>0.804756</td>\n",
       "      <td>1.000000</td>\n",
       "      <td>0.001945</td>\n",
       "      <td>0.001909</td>\n",
       "    </tr>\n",
       "    <tr>\n",
       "      <td>count.5</td>\n",
       "      <td>0.000457</td>\n",
       "      <td>-0.000950</td>\n",
       "      <td>0.013098</td>\n",
       "      <td>0.001434</td>\n",
       "      <td>0.001945</td>\n",
       "      <td>1.000000</td>\n",
       "      <td>0.996272</td>\n",
       "    </tr>\n",
       "    <tr>\n",
       "      <td>count.6</td>\n",
       "      <td>0.000256</td>\n",
       "      <td>-0.000444</td>\n",
       "      <td>0.001898</td>\n",
       "      <td>0.001420</td>\n",
       "      <td>0.001909</td>\n",
       "      <td>0.996272</td>\n",
       "      <td>1.000000</td>\n",
       "    </tr>\n",
       "  </tbody>\n",
       "</table>\n",
       "</div>"
      ],
      "text/plain": [
       "             port    port.1   count.2   count.3   count.4   count.5   count.6\n",
       "port     1.000000 -0.247391  0.001492  0.000664  0.000614  0.000457  0.000256\n",
       "port.1  -0.247391  1.000000 -0.001994 -0.001083 -0.001079 -0.000950 -0.000444\n",
       "count.2  0.001492 -0.001994  1.000000  0.000033  0.000038  0.013098  0.001898\n",
       "count.3  0.000664 -0.001083  0.000033  1.000000  0.804756  0.001434  0.001420\n",
       "count.4  0.000614 -0.001079  0.000038  0.804756  1.000000  0.001945  0.001909\n",
       "count.5  0.000457 -0.000950  0.013098  0.001434  0.001945  1.000000  0.996272\n",
       "count.6  0.000256 -0.000444  0.001898  0.001420  0.001909  0.996272  1.000000"
      ]
     },
     "execution_count": 67,
     "metadata": {},
     "output_type": "execute_result"
    }
   ],
   "source": [
    "big.corr()"
   ]
  },
  {
   "cell_type": "code",
   "execution_count": null,
   "metadata": {},
   "outputs": [],
   "source": []
  },
  {
   "cell_type": "markdown",
   "metadata": {},
   "source": [
    "# Обработка фрейма (удаление/изменение признаков)"
   ]
  },
  {
   "cell_type": "code",
   "execution_count": 69,
   "metadata": {},
   "outputs": [
    {
     "data": {
      "text/plain": [
       "CKsBID3L5r4TDTAgLi    1\n",
       "COBRXf3vT7daNx9HEe    1\n",
       "ChG32a3TlbH89r7MWa    1\n",
       "Cx9CEe1m4fzOYfNNt     1\n",
       "CHym6G8EsWgEInLc8     1\n",
       "                     ..\n",
       "C28IXH2gMvqKKjfOu3    1\n",
       "CZBuNq11gripYd2TS     1\n",
       "C1iVRs3ZwT2nM6Lnf7    1\n",
       "CmOgfv4AihTtPUWaTi    1\n",
       "Cz8gDt1fjLoAFCNpHi    1\n",
       "Name: string, Length: 10792541, dtype: int64"
      ]
     },
     "execution_count": 69,
     "metadata": {},
     "output_type": "execute_result"
    }
   ],
   "source": [
    "big['string'].value_counts()"
   ]
  },
  {
   "cell_type": "code",
   "execution_count": 70,
   "metadata": {},
   "outputs": [],
   "source": [
    "big = big.drop('string', axis = 1)\n",
    "# признак с хешем, у каждого наблюдения свой, не приносит пользы модели"
   ]
  },
  {
   "cell_type": "code",
   "execution_count": 71,
   "metadata": {},
   "outputs": [],
   "source": [
    "day = big['time'].apply(lambda x: x.timetuple().tm_yday)\n",
    "hour = big['time'].apply(lambda x: x.hour)\n",
    "\n",
    "day = pd.DataFrame(day)\n",
    "hour = pd.DataFrame(hour)\n",
    "\n",
    "big.insert(1, 'hour', hour)\n",
    "big.insert(1, 'day', day)\n",
    "big = big.drop('time', axis = 1)\n",
    "# преобразуем дату в два новых признака, поряд дня в году и час"
   ]
  },
  {
   "cell_type": "code",
   "execution_count": 72,
   "metadata": {},
   "outputs": [
    {
     "data": {
      "text/html": [
       "<div>\n",
       "<style scoped>\n",
       "    .dataframe tbody tr th:only-of-type {\n",
       "        vertical-align: middle;\n",
       "    }\n",
       "\n",
       "    .dataframe tbody tr th {\n",
       "        vertical-align: top;\n",
       "    }\n",
       "\n",
       "    .dataframe thead th {\n",
       "        text-align: right;\n",
       "    }\n",
       "</style>\n",
       "<table border=\"1\" class=\"dataframe\">\n",
       "  <thead>\n",
       "    <tr style=\"text-align: right;\">\n",
       "      <th></th>\n",
       "      <th>day</th>\n",
       "      <th>hour</th>\n",
       "      <th>addr</th>\n",
       "      <th>port</th>\n",
       "      <th>addr.1</th>\n",
       "      <th>port.1</th>\n",
       "      <th>enum</th>\n",
       "      <th>string.1</th>\n",
       "      <th>interval</th>\n",
       "      <th>count</th>\n",
       "      <th>...</th>\n",
       "      <th>bool.1</th>\n",
       "      <th>count.2</th>\n",
       "      <th>string.3</th>\n",
       "      <th>count.3</th>\n",
       "      <th>count.4</th>\n",
       "      <th>count.5</th>\n",
       "      <th>count.6</th>\n",
       "      <th>set[string]</th>\n",
       "      <th>string.4</th>\n",
       "      <th>string.5</th>\n",
       "    </tr>\n",
       "  </thead>\n",
       "  <tbody>\n",
       "    <tr>\n",
       "      <td>0</td>\n",
       "      <td>298</td>\n",
       "      <td>12</td>\n",
       "      <td>192.168.1.132</td>\n",
       "      <td>58687</td>\n",
       "      <td>216.239.35.4</td>\n",
       "      <td>123</td>\n",
       "      <td>udp</td>\n",
       "      <td>-</td>\n",
       "      <td>0.114184</td>\n",
       "      <td>48</td>\n",
       "      <td>...</td>\n",
       "      <td>-</td>\n",
       "      <td>0</td>\n",
       "      <td>Dd</td>\n",
       "      <td>1</td>\n",
       "      <td>76</td>\n",
       "      <td>1</td>\n",
       "      <td>76</td>\n",
       "      <td>-</td>\n",
       "      <td>benign</td>\n",
       "      <td>-</td>\n",
       "    </tr>\n",
       "    <tr>\n",
       "      <td>1</td>\n",
       "      <td>298</td>\n",
       "      <td>12</td>\n",
       "      <td>192.168.1.132</td>\n",
       "      <td>1900</td>\n",
       "      <td>239.255.255.250</td>\n",
       "      <td>1900</td>\n",
       "      <td>udp</td>\n",
       "      <td>-</td>\n",
       "      <td>160.367579</td>\n",
       "      <td>7536</td>\n",
       "      <td>...</td>\n",
       "      <td>-</td>\n",
       "      <td>0</td>\n",
       "      <td>D</td>\n",
       "      <td>24</td>\n",
       "      <td>8208</td>\n",
       "      <td>0</td>\n",
       "      <td>0</td>\n",
       "      <td>-</td>\n",
       "      <td>benign</td>\n",
       "      <td>-</td>\n",
       "    </tr>\n",
       "    <tr>\n",
       "      <td>2</td>\n",
       "      <td>298</td>\n",
       "      <td>12</td>\n",
       "      <td>192.168.1.132</td>\n",
       "      <td>32893</td>\n",
       "      <td>216.239.35.8</td>\n",
       "      <td>123</td>\n",
       "      <td>udp</td>\n",
       "      <td>-</td>\n",
       "      <td>0.016986</td>\n",
       "      <td>48</td>\n",
       "      <td>...</td>\n",
       "      <td>-</td>\n",
       "      <td>0</td>\n",
       "      <td>Dd</td>\n",
       "      <td>1</td>\n",
       "      <td>76</td>\n",
       "      <td>1</td>\n",
       "      <td>76</td>\n",
       "      <td>-</td>\n",
       "      <td>benign</td>\n",
       "      <td>-</td>\n",
       "    </tr>\n",
       "    <tr>\n",
       "      <td>3</td>\n",
       "      <td>298</td>\n",
       "      <td>12</td>\n",
       "      <td>192.168.1.132</td>\n",
       "      <td>53395</td>\n",
       "      <td>2.16.60.82</td>\n",
       "      <td>443</td>\n",
       "      <td>tcp</td>\n",
       "      <td>-</td>\n",
       "      <td>0.003497</td>\n",
       "      <td>0</td>\n",
       "      <td>...</td>\n",
       "      <td>-</td>\n",
       "      <td>0</td>\n",
       "      <td>ShAFf</td>\n",
       "      <td>5</td>\n",
       "      <td>212</td>\n",
       "      <td>3</td>\n",
       "      <td>144</td>\n",
       "      <td>-</td>\n",
       "      <td>benign</td>\n",
       "      <td>-</td>\n",
       "    </tr>\n",
       "    <tr>\n",
       "      <td>4</td>\n",
       "      <td>298</td>\n",
       "      <td>12</td>\n",
       "      <td>192.168.1.132</td>\n",
       "      <td>52801</td>\n",
       "      <td>192.168.1.1</td>\n",
       "      <td>53</td>\n",
       "      <td>udp</td>\n",
       "      <td>dns</td>\n",
       "      <td>0.036724</td>\n",
       "      <td>34</td>\n",
       "      <td>...</td>\n",
       "      <td>-</td>\n",
       "      <td>0</td>\n",
       "      <td>Dd</td>\n",
       "      <td>1</td>\n",
       "      <td>62</td>\n",
       "      <td>1</td>\n",
       "      <td>339</td>\n",
       "      <td>-</td>\n",
       "      <td>benign</td>\n",
       "      <td>-</td>\n",
       "    </tr>\n",
       "    <tr>\n",
       "      <td>...</td>\n",
       "      <td>...</td>\n",
       "      <td>...</td>\n",
       "      <td>...</td>\n",
       "      <td>...</td>\n",
       "      <td>...</td>\n",
       "      <td>...</td>\n",
       "      <td>...</td>\n",
       "      <td>...</td>\n",
       "      <td>...</td>\n",
       "      <td>...</td>\n",
       "      <td>...</td>\n",
       "      <td>...</td>\n",
       "      <td>...</td>\n",
       "      <td>...</td>\n",
       "      <td>...</td>\n",
       "      <td>...</td>\n",
       "      <td>...</td>\n",
       "      <td>...</td>\n",
       "      <td>...</td>\n",
       "      <td>...</td>\n",
       "      <td>...</td>\n",
       "    </tr>\n",
       "    <tr>\n",
       "      <td>10792536</td>\n",
       "      <td>67</td>\n",
       "      <td>13</td>\n",
       "      <td>192.168.1.197</td>\n",
       "      <td>63420</td>\n",
       "      <td>146.215.252.66</td>\n",
       "      <td>23</td>\n",
       "      <td>tcp</td>\n",
       "      <td>-</td>\n",
       "      <td>6e-06</td>\n",
       "      <td>0</td>\n",
       "      <td>...</td>\n",
       "      <td>-</td>\n",
       "      <td>0</td>\n",
       "      <td>S</td>\n",
       "      <td>2</td>\n",
       "      <td>80</td>\n",
       "      <td>0</td>\n",
       "      <td>0</td>\n",
       "      <td>-</td>\n",
       "      <td>Malicious</td>\n",
       "      <td>PartOfAHorizontalPortScan</td>\n",
       "    </tr>\n",
       "    <tr>\n",
       "      <td>10792537</td>\n",
       "      <td>67</td>\n",
       "      <td>13</td>\n",
       "      <td>192.168.1.197</td>\n",
       "      <td>63420</td>\n",
       "      <td>165.133.152.183</td>\n",
       "      <td>23</td>\n",
       "      <td>tcp</td>\n",
       "      <td>-</td>\n",
       "      <td>2e-06</td>\n",
       "      <td>0</td>\n",
       "      <td>...</td>\n",
       "      <td>-</td>\n",
       "      <td>0</td>\n",
       "      <td>S</td>\n",
       "      <td>2</td>\n",
       "      <td>80</td>\n",
       "      <td>0</td>\n",
       "      <td>0</td>\n",
       "      <td>-</td>\n",
       "      <td>Malicious</td>\n",
       "      <td>PartOfAHorizontalPortScan</td>\n",
       "    </tr>\n",
       "    <tr>\n",
       "      <td>10792538</td>\n",
       "      <td>67</td>\n",
       "      <td>13</td>\n",
       "      <td>192.168.1.197</td>\n",
       "      <td>63420</td>\n",
       "      <td>171.153.103.80</td>\n",
       "      <td>23</td>\n",
       "      <td>tcp</td>\n",
       "      <td>-</td>\n",
       "      <td>2e-06</td>\n",
       "      <td>0</td>\n",
       "      <td>...</td>\n",
       "      <td>-</td>\n",
       "      <td>0</td>\n",
       "      <td>S</td>\n",
       "      <td>2</td>\n",
       "      <td>80</td>\n",
       "      <td>0</td>\n",
       "      <td>0</td>\n",
       "      <td>-</td>\n",
       "      <td>Malicious</td>\n",
       "      <td>PartOfAHorizontalPortScan</td>\n",
       "    </tr>\n",
       "    <tr>\n",
       "      <td>10792539</td>\n",
       "      <td>67</td>\n",
       "      <td>13</td>\n",
       "      <td>192.168.1.197</td>\n",
       "      <td>63420</td>\n",
       "      <td>185.134.125.90</td>\n",
       "      <td>23</td>\n",
       "      <td>tcp</td>\n",
       "      <td>-</td>\n",
       "      <td>2e-06</td>\n",
       "      <td>0</td>\n",
       "      <td>...</td>\n",
       "      <td>-</td>\n",
       "      <td>0</td>\n",
       "      <td>S</td>\n",
       "      <td>2</td>\n",
       "      <td>80</td>\n",
       "      <td>0</td>\n",
       "      <td>0</td>\n",
       "      <td>-</td>\n",
       "      <td>Malicious</td>\n",
       "      <td>PartOfAHorizontalPortScan</td>\n",
       "    </tr>\n",
       "    <tr>\n",
       "      <td>10792540</td>\n",
       "      <td>67</td>\n",
       "      <td>13</td>\n",
       "      <td>192.168.1.197</td>\n",
       "      <td>63420</td>\n",
       "      <td>100.18.47.215</td>\n",
       "      <td>23</td>\n",
       "      <td>tcp</td>\n",
       "      <td>-</td>\n",
       "      <td>2e-06</td>\n",
       "      <td>0</td>\n",
       "      <td>...</td>\n",
       "      <td>-</td>\n",
       "      <td>0</td>\n",
       "      <td>S</td>\n",
       "      <td>2</td>\n",
       "      <td>80</td>\n",
       "      <td>0</td>\n",
       "      <td>0</td>\n",
       "      <td>-</td>\n",
       "      <td>Malicious</td>\n",
       "      <td>PartOfAHorizontalPortScan</td>\n",
       "    </tr>\n",
       "  </tbody>\n",
       "</table>\n",
       "<p>10792541 rows × 23 columns</p>\n",
       "</div>"
      ],
      "text/plain": [
       "          day  hour           addr   port           addr.1  port.1 enum  \\\n",
       "0         298    12  192.168.1.132  58687     216.239.35.4     123  udp   \n",
       "1         298    12  192.168.1.132   1900  239.255.255.250    1900  udp   \n",
       "2         298    12  192.168.1.132  32893     216.239.35.8     123  udp   \n",
       "3         298    12  192.168.1.132  53395       2.16.60.82     443  tcp   \n",
       "4         298    12  192.168.1.132  52801      192.168.1.1      53  udp   \n",
       "...       ...   ...            ...    ...              ...     ...  ...   \n",
       "10792536   67    13  192.168.1.197  63420   146.215.252.66      23  tcp   \n",
       "10792537   67    13  192.168.1.197  63420  165.133.152.183      23  tcp   \n",
       "10792538   67    13  192.168.1.197  63420   171.153.103.80      23  tcp   \n",
       "10792539   67    13  192.168.1.197  63420   185.134.125.90      23  tcp   \n",
       "10792540   67    13  192.168.1.197  63420    100.18.47.215      23  tcp   \n",
       "\n",
       "         string.1    interval count  ... bool.1 count.2 string.3 count.3  \\\n",
       "0               -    0.114184    48  ...      -       0       Dd       1   \n",
       "1               -  160.367579  7536  ...      -       0        D      24   \n",
       "2               -    0.016986    48  ...      -       0       Dd       1   \n",
       "3               -    0.003497     0  ...      -       0    ShAFf       5   \n",
       "4             dns    0.036724    34  ...      -       0       Dd       1   \n",
       "...           ...         ...   ...  ...    ...     ...      ...     ...   \n",
       "10792536        -       6e-06     0  ...      -       0        S       2   \n",
       "10792537        -       2e-06     0  ...      -       0        S       2   \n",
       "10792538        -       2e-06     0  ...      -       0        S       2   \n",
       "10792539        -       2e-06     0  ...      -       0        S       2   \n",
       "10792540        -       2e-06     0  ...      -       0        S       2   \n",
       "\n",
       "          count.4 count.5  count.6  set[string]   string.4  \\\n",
       "0              76       1       76            -     benign   \n",
       "1            8208       0        0            -     benign   \n",
       "2              76       1       76            -     benign   \n",
       "3             212       3      144            -     benign   \n",
       "4              62       1      339            -     benign   \n",
       "...           ...     ...      ...          ...        ...   \n",
       "10792536       80       0        0            -  Malicious   \n",
       "10792537       80       0        0            -  Malicious   \n",
       "10792538       80       0        0            -  Malicious   \n",
       "10792539       80       0        0            -  Malicious   \n",
       "10792540       80       0        0            -  Malicious   \n",
       "\n",
       "                           string.5  \n",
       "0                                 -  \n",
       "1                                 -  \n",
       "2                                 -  \n",
       "3                                 -  \n",
       "4                                 -  \n",
       "...                             ...  \n",
       "10792536  PartOfAHorizontalPortScan  \n",
       "10792537  PartOfAHorizontalPortScan  \n",
       "10792538  PartOfAHorizontalPortScan  \n",
       "10792539  PartOfAHorizontalPortScan  \n",
       "10792540  PartOfAHorizontalPortScan  \n",
       "\n",
       "[10792541 rows x 23 columns]"
      ]
     },
     "execution_count": 72,
     "metadata": {},
     "output_type": "execute_result"
    }
   ],
   "source": [
    "big"
   ]
  },
  {
   "cell_type": "code",
   "execution_count": 73,
   "metadata": {},
   "outputs": [
    {
     "name": "stdout",
     "output_type": "stream",
     "text": [
      "<class 'pandas.core.frame.DataFrame'>\n",
      "Int64Index: 10792541 entries, 0 to 10792540\n",
      "Data columns (total 23 columns):\n",
      "day            int64\n",
      "hour           int64\n",
      "addr           object\n",
      "port           int64\n",
      "addr.1         object\n",
      "port.1         int64\n",
      "enum           object\n",
      "string.1       object\n",
      "interval       object\n",
      "count          object\n",
      "count.1        object\n",
      "string.2       object\n",
      "bool           object\n",
      "bool.1         object\n",
      "count.2        int64\n",
      "string.3       object\n",
      "count.3        int64\n",
      "count.4        int64\n",
      "count.5        int64\n",
      "count.6        int64\n",
      "set[string]    object\n",
      "string.4       object\n",
      "string.5       object\n",
      "dtypes: int64(9), object(14)\n",
      "memory usage: 1.9+ GB\n"
     ]
    }
   ],
   "source": [
    "big.info()"
   ]
  },
  {
   "cell_type": "code",
   "execution_count": 74,
   "metadata": {},
   "outputs": [
    {
     "data": {
      "text/plain": [
       "-    10792541\n",
       "Name: bool, dtype: int64"
      ]
     },
     "execution_count": 74,
     "metadata": {},
     "output_type": "execute_result"
    }
   ],
   "source": [
    "big['bool'].value_counts()"
   ]
  },
  {
   "cell_type": "code",
   "execution_count": 75,
   "metadata": {},
   "outputs": [
    {
     "data": {
      "text/plain": [
       "-    10792541\n",
       "Name: bool.1, dtype: int64"
      ]
     },
     "execution_count": 75,
     "metadata": {},
     "output_type": "execute_result"
    }
   ],
   "source": [
    "big['bool.1'].value_counts()"
   ]
  },
  {
   "cell_type": "code",
   "execution_count": 76,
   "metadata": {},
   "outputs": [
    {
     "data": {
      "text/plain": [
       "Malicious    10267085\n",
       "Benign         523500\n",
       "benign           1956\n",
       "Name: string.4, dtype: int64"
      ]
     },
     "execution_count": 76,
     "metadata": {},
     "output_type": "execute_result"
    }
   ],
   "source": [
    "big['string.4'].value_counts()"
   ]
  },
  {
   "cell_type": "code",
   "execution_count": 77,
   "metadata": {},
   "outputs": [],
   "source": [
    "big = big.drop('bool', axis = 1)\n",
    "big = big.drop('bool.1', axis = 1)\n",
    "big = big.drop('string.4', axis = 1)\n",
    "# значения признаков bool и bool.1 одинаковы для всех наблюдений\n",
    "# признак string.4 имеет частичный ответ ожидаемый от модели"
   ]
  },
  {
   "cell_type": "code",
   "execution_count": 79,
   "metadata": {},
   "outputs": [
    {
     "data": {
      "text/plain": [
       "-           8470907\n",
       "2e-06       1241646\n",
       "6e-06        295326\n",
       "5e-06        210418\n",
       "1e-06        164943\n",
       "             ...   \n",
       "0.218373          1\n",
       "0.105762          1\n",
       "0.437690          1\n",
       "0.027226          1\n",
       "0.150669          1\n",
       "Name: interval, Length: 51232, dtype: int64"
      ]
     },
     "execution_count": 79,
     "metadata": {},
     "output_type": "execute_result"
    }
   ],
   "source": [
    "big['interval'].value_counts()"
   ]
  },
  {
   "cell_type": "code",
   "execution_count": 80,
   "metadata": {},
   "outputs": [
    {
     "data": {
      "text/plain": [
       "-        8470907\n",
       "0        1999949\n",
       "0         287074\n",
       "48         13454\n",
       "45          2809\n",
       "          ...   \n",
       "464            1\n",
       "479            1\n",
       "16438          1\n",
       "5463           1\n",
       "794            1\n",
       "Name: count.1, Length: 798, dtype: int64"
      ]
     },
     "execution_count": 80,
     "metadata": {},
     "output_type": "execute_result"
    }
   ],
   "source": [
    "big['count.1'].value_counts()"
   ]
  },
  {
   "cell_type": "code",
   "execution_count": 81,
   "metadata": {},
   "outputs": [
    {
     "data": {
      "text/plain": [
       "-        8470907\n",
       "0        1999540\n",
       "0         279953\n",
       "48         13478\n",
       "589         5841\n",
       "          ...   \n",
       "1104           1\n",
       "10217          1\n",
       "2376           1\n",
       "5415           1\n",
       "28260          1\n",
       "Name: count, Length: 579, dtype: int64"
      ]
     },
     "execution_count": 81,
     "metadata": {},
     "output_type": "execute_result"
    }
   ],
   "source": [
    "big['count'].value_counts()"
   ]
  },
  {
   "cell_type": "code",
   "execution_count": 95,
   "metadata": {},
   "outputs": [],
   "source": [
    "big.loc[big['interval'] == '-', 'interval'] = '-1'\n",
    "big.loc[big['count'] == '-', 'count'] = '-1'\n",
    "big.loc[big['count.1'] == '-', 'count.1'] = '-1'\n",
    "\n",
    "big['interval'] = big['interval'].astype(float)\n",
    "big['count'] = big['count'].astype(int)\n",
    "big['count.1'] = big['count.1'].astype(int)\n",
    "# заменяем пропуски на значение -1 и приводим признаки к числовому типу"
   ]
  },
  {
   "cell_type": "code",
   "execution_count": 96,
   "metadata": {},
   "outputs": [
    {
     "data": {
      "text/html": [
       "<div>\n",
       "<style scoped>\n",
       "    .dataframe tbody tr th:only-of-type {\n",
       "        vertical-align: middle;\n",
       "    }\n",
       "\n",
       "    .dataframe tbody tr th {\n",
       "        vertical-align: top;\n",
       "    }\n",
       "\n",
       "    .dataframe thead th {\n",
       "        text-align: right;\n",
       "    }\n",
       "</style>\n",
       "<table border=\"1\" class=\"dataframe\">\n",
       "  <thead>\n",
       "    <tr style=\"text-align: right;\">\n",
       "      <th></th>\n",
       "      <th>day</th>\n",
       "      <th>hour</th>\n",
       "      <th>addr</th>\n",
       "      <th>port</th>\n",
       "      <th>addr.1</th>\n",
       "      <th>port.1</th>\n",
       "      <th>enum</th>\n",
       "      <th>string.1</th>\n",
       "      <th>interval</th>\n",
       "      <th>count</th>\n",
       "      <th>count.1</th>\n",
       "      <th>string.2</th>\n",
       "      <th>count.2</th>\n",
       "      <th>string.3</th>\n",
       "      <th>count.3</th>\n",
       "      <th>count.4</th>\n",
       "      <th>count.5</th>\n",
       "      <th>count.6</th>\n",
       "      <th>set[string]</th>\n",
       "      <th>string.5</th>\n",
       "    </tr>\n",
       "  </thead>\n",
       "  <tbody>\n",
       "    <tr>\n",
       "      <td>0</td>\n",
       "      <td>298</td>\n",
       "      <td>12</td>\n",
       "      <td>192.168.1.132</td>\n",
       "      <td>58687</td>\n",
       "      <td>216.239.35.4</td>\n",
       "      <td>123</td>\n",
       "      <td>udp</td>\n",
       "      <td>-</td>\n",
       "      <td>0.114184</td>\n",
       "      <td>48</td>\n",
       "      <td>48</td>\n",
       "      <td>SF</td>\n",
       "      <td>0</td>\n",
       "      <td>Dd</td>\n",
       "      <td>1</td>\n",
       "      <td>76</td>\n",
       "      <td>1</td>\n",
       "      <td>76</td>\n",
       "      <td>-</td>\n",
       "      <td>-</td>\n",
       "    </tr>\n",
       "    <tr>\n",
       "      <td>1</td>\n",
       "      <td>298</td>\n",
       "      <td>12</td>\n",
       "      <td>192.168.1.132</td>\n",
       "      <td>1900</td>\n",
       "      <td>239.255.255.250</td>\n",
       "      <td>1900</td>\n",
       "      <td>udp</td>\n",
       "      <td>-</td>\n",
       "      <td>160.367579</td>\n",
       "      <td>7536</td>\n",
       "      <td>0</td>\n",
       "      <td>S0</td>\n",
       "      <td>0</td>\n",
       "      <td>D</td>\n",
       "      <td>24</td>\n",
       "      <td>8208</td>\n",
       "      <td>0</td>\n",
       "      <td>0</td>\n",
       "      <td>-</td>\n",
       "      <td>-</td>\n",
       "    </tr>\n",
       "    <tr>\n",
       "      <td>2</td>\n",
       "      <td>298</td>\n",
       "      <td>12</td>\n",
       "      <td>192.168.1.132</td>\n",
       "      <td>32893</td>\n",
       "      <td>216.239.35.8</td>\n",
       "      <td>123</td>\n",
       "      <td>udp</td>\n",
       "      <td>-</td>\n",
       "      <td>0.016986</td>\n",
       "      <td>48</td>\n",
       "      <td>48</td>\n",
       "      <td>SF</td>\n",
       "      <td>0</td>\n",
       "      <td>Dd</td>\n",
       "      <td>1</td>\n",
       "      <td>76</td>\n",
       "      <td>1</td>\n",
       "      <td>76</td>\n",
       "      <td>-</td>\n",
       "      <td>-</td>\n",
       "    </tr>\n",
       "    <tr>\n",
       "      <td>3</td>\n",
       "      <td>298</td>\n",
       "      <td>12</td>\n",
       "      <td>192.168.1.132</td>\n",
       "      <td>53395</td>\n",
       "      <td>2.16.60.82</td>\n",
       "      <td>443</td>\n",
       "      <td>tcp</td>\n",
       "      <td>-</td>\n",
       "      <td>0.003497</td>\n",
       "      <td>0</td>\n",
       "      <td>0</td>\n",
       "      <td>SF</td>\n",
       "      <td>0</td>\n",
       "      <td>ShAFf</td>\n",
       "      <td>5</td>\n",
       "      <td>212</td>\n",
       "      <td>3</td>\n",
       "      <td>144</td>\n",
       "      <td>-</td>\n",
       "      <td>-</td>\n",
       "    </tr>\n",
       "    <tr>\n",
       "      <td>4</td>\n",
       "      <td>298</td>\n",
       "      <td>12</td>\n",
       "      <td>192.168.1.132</td>\n",
       "      <td>52801</td>\n",
       "      <td>192.168.1.1</td>\n",
       "      <td>53</td>\n",
       "      <td>udp</td>\n",
       "      <td>dns</td>\n",
       "      <td>0.036724</td>\n",
       "      <td>34</td>\n",
       "      <td>311</td>\n",
       "      <td>SF</td>\n",
       "      <td>0</td>\n",
       "      <td>Dd</td>\n",
       "      <td>1</td>\n",
       "      <td>62</td>\n",
       "      <td>1</td>\n",
       "      <td>339</td>\n",
       "      <td>-</td>\n",
       "      <td>-</td>\n",
       "    </tr>\n",
       "    <tr>\n",
       "      <td>...</td>\n",
       "      <td>...</td>\n",
       "      <td>...</td>\n",
       "      <td>...</td>\n",
       "      <td>...</td>\n",
       "      <td>...</td>\n",
       "      <td>...</td>\n",
       "      <td>...</td>\n",
       "      <td>...</td>\n",
       "      <td>...</td>\n",
       "      <td>...</td>\n",
       "      <td>...</td>\n",
       "      <td>...</td>\n",
       "      <td>...</td>\n",
       "      <td>...</td>\n",
       "      <td>...</td>\n",
       "      <td>...</td>\n",
       "      <td>...</td>\n",
       "      <td>...</td>\n",
       "      <td>...</td>\n",
       "      <td>...</td>\n",
       "    </tr>\n",
       "    <tr>\n",
       "      <td>10792536</td>\n",
       "      <td>67</td>\n",
       "      <td>13</td>\n",
       "      <td>192.168.1.197</td>\n",
       "      <td>63420</td>\n",
       "      <td>146.215.252.66</td>\n",
       "      <td>23</td>\n",
       "      <td>tcp</td>\n",
       "      <td>-</td>\n",
       "      <td>0.000006</td>\n",
       "      <td>0</td>\n",
       "      <td>0</td>\n",
       "      <td>S0</td>\n",
       "      <td>0</td>\n",
       "      <td>S</td>\n",
       "      <td>2</td>\n",
       "      <td>80</td>\n",
       "      <td>0</td>\n",
       "      <td>0</td>\n",
       "      <td>-</td>\n",
       "      <td>PartOfAHorizontalPortScan</td>\n",
       "    </tr>\n",
       "    <tr>\n",
       "      <td>10792537</td>\n",
       "      <td>67</td>\n",
       "      <td>13</td>\n",
       "      <td>192.168.1.197</td>\n",
       "      <td>63420</td>\n",
       "      <td>165.133.152.183</td>\n",
       "      <td>23</td>\n",
       "      <td>tcp</td>\n",
       "      <td>-</td>\n",
       "      <td>0.000002</td>\n",
       "      <td>0</td>\n",
       "      <td>0</td>\n",
       "      <td>S0</td>\n",
       "      <td>0</td>\n",
       "      <td>S</td>\n",
       "      <td>2</td>\n",
       "      <td>80</td>\n",
       "      <td>0</td>\n",
       "      <td>0</td>\n",
       "      <td>-</td>\n",
       "      <td>PartOfAHorizontalPortScan</td>\n",
       "    </tr>\n",
       "    <tr>\n",
       "      <td>10792538</td>\n",
       "      <td>67</td>\n",
       "      <td>13</td>\n",
       "      <td>192.168.1.197</td>\n",
       "      <td>63420</td>\n",
       "      <td>171.153.103.80</td>\n",
       "      <td>23</td>\n",
       "      <td>tcp</td>\n",
       "      <td>-</td>\n",
       "      <td>0.000002</td>\n",
       "      <td>0</td>\n",
       "      <td>0</td>\n",
       "      <td>S0</td>\n",
       "      <td>0</td>\n",
       "      <td>S</td>\n",
       "      <td>2</td>\n",
       "      <td>80</td>\n",
       "      <td>0</td>\n",
       "      <td>0</td>\n",
       "      <td>-</td>\n",
       "      <td>PartOfAHorizontalPortScan</td>\n",
       "    </tr>\n",
       "    <tr>\n",
       "      <td>10792539</td>\n",
       "      <td>67</td>\n",
       "      <td>13</td>\n",
       "      <td>192.168.1.197</td>\n",
       "      <td>63420</td>\n",
       "      <td>185.134.125.90</td>\n",
       "      <td>23</td>\n",
       "      <td>tcp</td>\n",
       "      <td>-</td>\n",
       "      <td>0.000002</td>\n",
       "      <td>0</td>\n",
       "      <td>0</td>\n",
       "      <td>S0</td>\n",
       "      <td>0</td>\n",
       "      <td>S</td>\n",
       "      <td>2</td>\n",
       "      <td>80</td>\n",
       "      <td>0</td>\n",
       "      <td>0</td>\n",
       "      <td>-</td>\n",
       "      <td>PartOfAHorizontalPortScan</td>\n",
       "    </tr>\n",
       "    <tr>\n",
       "      <td>10792540</td>\n",
       "      <td>67</td>\n",
       "      <td>13</td>\n",
       "      <td>192.168.1.197</td>\n",
       "      <td>63420</td>\n",
       "      <td>100.18.47.215</td>\n",
       "      <td>23</td>\n",
       "      <td>tcp</td>\n",
       "      <td>-</td>\n",
       "      <td>0.000002</td>\n",
       "      <td>0</td>\n",
       "      <td>0</td>\n",
       "      <td>S0</td>\n",
       "      <td>0</td>\n",
       "      <td>S</td>\n",
       "      <td>2</td>\n",
       "      <td>80</td>\n",
       "      <td>0</td>\n",
       "      <td>0</td>\n",
       "      <td>-</td>\n",
       "      <td>PartOfAHorizontalPortScan</td>\n",
       "    </tr>\n",
       "  </tbody>\n",
       "</table>\n",
       "<p>10792541 rows × 20 columns</p>\n",
       "</div>"
      ],
      "text/plain": [
       "          day  hour           addr   port           addr.1  port.1 enum  \\\n",
       "0         298    12  192.168.1.132  58687     216.239.35.4     123  udp   \n",
       "1         298    12  192.168.1.132   1900  239.255.255.250    1900  udp   \n",
       "2         298    12  192.168.1.132  32893     216.239.35.8     123  udp   \n",
       "3         298    12  192.168.1.132  53395       2.16.60.82     443  tcp   \n",
       "4         298    12  192.168.1.132  52801      192.168.1.1      53  udp   \n",
       "...       ...   ...            ...    ...              ...     ...  ...   \n",
       "10792536   67    13  192.168.1.197  63420   146.215.252.66      23  tcp   \n",
       "10792537   67    13  192.168.1.197  63420  165.133.152.183      23  tcp   \n",
       "10792538   67    13  192.168.1.197  63420   171.153.103.80      23  tcp   \n",
       "10792539   67    13  192.168.1.197  63420   185.134.125.90      23  tcp   \n",
       "10792540   67    13  192.168.1.197  63420    100.18.47.215      23  tcp   \n",
       "\n",
       "         string.1    interval  count  count.1 string.2  count.2 string.3  \\\n",
       "0               -    0.114184     48       48       SF        0       Dd   \n",
       "1               -  160.367579   7536        0       S0        0        D   \n",
       "2               -    0.016986     48       48       SF        0       Dd   \n",
       "3               -    0.003497      0        0       SF        0    ShAFf   \n",
       "4             dns    0.036724     34      311       SF        0       Dd   \n",
       "...           ...         ...    ...      ...      ...      ...      ...   \n",
       "10792536        -    0.000006      0        0       S0        0        S   \n",
       "10792537        -    0.000002      0        0       S0        0        S   \n",
       "10792538        -    0.000002      0        0       S0        0        S   \n",
       "10792539        -    0.000002      0        0       S0        0        S   \n",
       "10792540        -    0.000002      0        0       S0        0        S   \n",
       "\n",
       "          count.3  count.4  count.5  count.6 set[string]  \\\n",
       "0               1       76        1       76           -   \n",
       "1              24     8208        0        0           -   \n",
       "2               1       76        1       76           -   \n",
       "3               5      212        3      144           -   \n",
       "4               1       62        1      339           -   \n",
       "...           ...      ...      ...      ...         ...   \n",
       "10792536        2       80        0        0           -   \n",
       "10792537        2       80        0        0           -   \n",
       "10792538        2       80        0        0           -   \n",
       "10792539        2       80        0        0           -   \n",
       "10792540        2       80        0        0           -   \n",
       "\n",
       "                           string.5  \n",
       "0                                 -  \n",
       "1                                 -  \n",
       "2                                 -  \n",
       "3                                 -  \n",
       "4                                 -  \n",
       "...                             ...  \n",
       "10792536  PartOfAHorizontalPortScan  \n",
       "10792537  PartOfAHorizontalPortScan  \n",
       "10792538  PartOfAHorizontalPortScan  \n",
       "10792539  PartOfAHorizontalPortScan  \n",
       "10792540  PartOfAHorizontalPortScan  \n",
       "\n",
       "[10792541 rows x 20 columns]"
      ]
     },
     "execution_count": 96,
     "metadata": {},
     "output_type": "execute_result"
    }
   ],
   "source": [
    "big"
   ]
  },
  {
   "cell_type": "code",
   "execution_count": 97,
   "metadata": {},
   "outputs": [
    {
     "name": "stdout",
     "output_type": "stream",
     "text": [
      "<class 'pandas.core.frame.DataFrame'>\n",
      "Int64Index: 10792541 entries, 0 to 10792540\n",
      "Data columns (total 20 columns):\n",
      "day            int64\n",
      "hour           int64\n",
      "addr           object\n",
      "port           int64\n",
      "addr.1         object\n",
      "port.1         int64\n",
      "enum           object\n",
      "string.1       object\n",
      "interval       float64\n",
      "count          int32\n",
      "count.1        int32\n",
      "string.2       object\n",
      "count.2        int64\n",
      "string.3       object\n",
      "count.3        int64\n",
      "count.4        int64\n",
      "count.5        int64\n",
      "count.6        int64\n",
      "set[string]    object\n",
      "string.5       object\n",
      "dtypes: float64(1), int32(2), int64(9), object(8)\n",
      "memory usage: 1.6+ GB\n"
     ]
    }
   ],
   "source": [
    "big.info()"
   ]
  },
  {
   "cell_type": "code",
   "execution_count": 99,
   "metadata": {},
   "outputs": [],
   "source": [
    "labelencoder = LabelEncoder()"
   ]
  },
  {
   "cell_type": "code",
   "execution_count": 101,
   "metadata": {},
   "outputs": [],
   "source": [
    "big[\"addr\"] = labelencoder.fit_transform(big[\"addr\"])\n",
    "big[\"addr.1\"] = labelencoder.fit_transform(big[\"addr.1\"])\n",
    "big[\"enum\"] = labelencoder.fit_transform(big[\"enum\"])\n",
    "big[\"string.1\"] = labelencoder.fit_transform(big[\"string.1\"])\n",
    "big[\"string.2\"] = labelencoder.fit_transform(big[\"string.2\"])\n",
    "big[\"string.3\"] = labelencoder.fit_transform(big[\"string.3\"])\n",
    "big[\"set[string]\"] = labelencoder.fit_transform(big[\"set[string]\"])\n",
    "big[\"string.5\"] = labelencoder.fit_transform(big[\"string.5\"])\n",
    "# преобразуем качественные признаки в числовые лабел энкодером (каждому значению признака присваиваем число)"
   ]
  },
  {
   "cell_type": "code",
   "execution_count": 102,
   "metadata": {},
   "outputs": [
    {
     "data": {
      "text/html": [
       "<div>\n",
       "<style scoped>\n",
       "    .dataframe tbody tr th:only-of-type {\n",
       "        vertical-align: middle;\n",
       "    }\n",
       "\n",
       "    .dataframe tbody tr th {\n",
       "        vertical-align: top;\n",
       "    }\n",
       "\n",
       "    .dataframe thead th {\n",
       "        text-align: right;\n",
       "    }\n",
       "</style>\n",
       "<table border=\"1\" class=\"dataframe\">\n",
       "  <thead>\n",
       "    <tr style=\"text-align: right;\">\n",
       "      <th></th>\n",
       "      <th>day</th>\n",
       "      <th>hour</th>\n",
       "      <th>addr</th>\n",
       "      <th>port</th>\n",
       "      <th>addr.1</th>\n",
       "      <th>port.1</th>\n",
       "      <th>enum</th>\n",
       "      <th>string.1</th>\n",
       "      <th>interval</th>\n",
       "      <th>count</th>\n",
       "      <th>count.1</th>\n",
       "      <th>string.2</th>\n",
       "      <th>count.2</th>\n",
       "      <th>string.3</th>\n",
       "      <th>count.3</th>\n",
       "      <th>count.4</th>\n",
       "      <th>count.5</th>\n",
       "      <th>count.6</th>\n",
       "      <th>set[string]</th>\n",
       "      <th>string.5</th>\n",
       "    </tr>\n",
       "  </thead>\n",
       "  <tbody>\n",
       "    <tr>\n",
       "      <td>0</td>\n",
       "      <td>298</td>\n",
       "      <td>12</td>\n",
       "      <td>7435</td>\n",
       "      <td>58687</td>\n",
       "      <td>4106478</td>\n",
       "      <td>123</td>\n",
       "      <td>2</td>\n",
       "      <td>0</td>\n",
       "      <td>0.114184</td>\n",
       "      <td>48</td>\n",
       "      <td>48</td>\n",
       "      <td>10</td>\n",
       "      <td>0</td>\n",
       "      <td>15</td>\n",
       "      <td>1</td>\n",
       "      <td>76</td>\n",
       "      <td>1</td>\n",
       "      <td>76</td>\n",
       "      <td>1</td>\n",
       "      <td>0</td>\n",
       "    </tr>\n",
       "    <tr>\n",
       "      <td>1</td>\n",
       "      <td>298</td>\n",
       "      <td>12</td>\n",
       "      <td>7435</td>\n",
       "      <td>1900</td>\n",
       "      <td>4347631</td>\n",
       "      <td>1900</td>\n",
       "      <td>2</td>\n",
       "      <td>0</td>\n",
       "      <td>160.367579</td>\n",
       "      <td>7536</td>\n",
       "      <td>0</td>\n",
       "      <td>6</td>\n",
       "      <td>0</td>\n",
       "      <td>7</td>\n",
       "      <td>24</td>\n",
       "      <td>8208</td>\n",
       "      <td>0</td>\n",
       "      <td>0</td>\n",
       "      <td>1</td>\n",
       "      <td>0</td>\n",
       "    </tr>\n",
       "    <tr>\n",
       "      <td>2</td>\n",
       "      <td>298</td>\n",
       "      <td>12</td>\n",
       "      <td>7435</td>\n",
       "      <td>32893</td>\n",
       "      <td>4106479</td>\n",
       "      <td>123</td>\n",
       "      <td>2</td>\n",
       "      <td>0</td>\n",
       "      <td>0.016986</td>\n",
       "      <td>48</td>\n",
       "      <td>48</td>\n",
       "      <td>10</td>\n",
       "      <td>0</td>\n",
       "      <td>15</td>\n",
       "      <td>1</td>\n",
       "      <td>76</td>\n",
       "      <td>1</td>\n",
       "      <td>76</td>\n",
       "      <td>1</td>\n",
       "      <td>0</td>\n",
       "    </tr>\n",
       "    <tr>\n",
       "      <td>3</td>\n",
       "      <td>298</td>\n",
       "      <td>12</td>\n",
       "      <td>7435</td>\n",
       "      <td>53395</td>\n",
       "      <td>3436559</td>\n",
       "      <td>443</td>\n",
       "      <td>1</td>\n",
       "      <td>0</td>\n",
       "      <td>0.003497</td>\n",
       "      <td>0</td>\n",
       "      <td>0</td>\n",
       "      <td>10</td>\n",
       "      <td>0</td>\n",
       "      <td>142</td>\n",
       "      <td>5</td>\n",
       "      <td>212</td>\n",
       "      <td>3</td>\n",
       "      <td>144</td>\n",
       "      <td>1</td>\n",
       "      <td>0</td>\n",
       "    </tr>\n",
       "    <tr>\n",
       "      <td>4</td>\n",
       "      <td>298</td>\n",
       "      <td>12</td>\n",
       "      <td>7435</td>\n",
       "      <td>52801</td>\n",
       "      <td>2903457</td>\n",
       "      <td>53</td>\n",
       "      <td>2</td>\n",
       "      <td>2</td>\n",
       "      <td>0.036724</td>\n",
       "      <td>34</td>\n",
       "      <td>311</td>\n",
       "      <td>10</td>\n",
       "      <td>0</td>\n",
       "      <td>15</td>\n",
       "      <td>1</td>\n",
       "      <td>62</td>\n",
       "      <td>1</td>\n",
       "      <td>339</td>\n",
       "      <td>1</td>\n",
       "      <td>0</td>\n",
       "    </tr>\n",
       "    <tr>\n",
       "      <td>...</td>\n",
       "      <td>...</td>\n",
       "      <td>...</td>\n",
       "      <td>...</td>\n",
       "      <td>...</td>\n",
       "      <td>...</td>\n",
       "      <td>...</td>\n",
       "      <td>...</td>\n",
       "      <td>...</td>\n",
       "      <td>...</td>\n",
       "      <td>...</td>\n",
       "      <td>...</td>\n",
       "      <td>...</td>\n",
       "      <td>...</td>\n",
       "      <td>...</td>\n",
       "      <td>...</td>\n",
       "      <td>...</td>\n",
       "      <td>...</td>\n",
       "      <td>...</td>\n",
       "      <td>...</td>\n",
       "      <td>...</td>\n",
       "    </tr>\n",
       "    <tr>\n",
       "      <td>10792536</td>\n",
       "      <td>67</td>\n",
       "      <td>13</td>\n",
       "      <td>7438</td>\n",
       "      <td>63420</td>\n",
       "      <td>1261530</td>\n",
       "      <td>23</td>\n",
       "      <td>1</td>\n",
       "      <td>0</td>\n",
       "      <td>0.000006</td>\n",
       "      <td>0</td>\n",
       "      <td>0</td>\n",
       "      <td>6</td>\n",
       "      <td>0</td>\n",
       "      <td>40</td>\n",
       "      <td>2</td>\n",
       "      <td>80</td>\n",
       "      <td>0</td>\n",
       "      <td>0</td>\n",
       "      <td>1</td>\n",
       "      <td>11</td>\n",
       "    </tr>\n",
       "    <tr>\n",
       "      <td>10792537</td>\n",
       "      <td>67</td>\n",
       "      <td>13</td>\n",
       "      <td>7438</td>\n",
       "      <td>63420</td>\n",
       "      <td>2135393</td>\n",
       "      <td>23</td>\n",
       "      <td>1</td>\n",
       "      <td>0</td>\n",
       "      <td>0.000002</td>\n",
       "      <td>0</td>\n",
       "      <td>0</td>\n",
       "      <td>6</td>\n",
       "      <td>0</td>\n",
       "      <td>40</td>\n",
       "      <td>2</td>\n",
       "      <td>80</td>\n",
       "      <td>0</td>\n",
       "      <td>0</td>\n",
       "      <td>1</td>\n",
       "      <td>11</td>\n",
       "    </tr>\n",
       "    <tr>\n",
       "      <td>10792538</td>\n",
       "      <td>67</td>\n",
       "      <td>13</td>\n",
       "      <td>7438</td>\n",
       "      <td>63420</td>\n",
       "      <td>2317649</td>\n",
       "      <td>23</td>\n",
       "      <td>1</td>\n",
       "      <td>0</td>\n",
       "      <td>0.000002</td>\n",
       "      <td>0</td>\n",
       "      <td>0</td>\n",
       "      <td>6</td>\n",
       "      <td>0</td>\n",
       "      <td>40</td>\n",
       "      <td>2</td>\n",
       "      <td>80</td>\n",
       "      <td>0</td>\n",
       "      <td>0</td>\n",
       "      <td>1</td>\n",
       "      <td>11</td>\n",
       "    </tr>\n",
       "    <tr>\n",
       "      <td>10792539</td>\n",
       "      <td>67</td>\n",
       "      <td>13</td>\n",
       "      <td>7438</td>\n",
       "      <td>63420</td>\n",
       "      <td>2694905</td>\n",
       "      <td>23</td>\n",
       "      <td>1</td>\n",
       "      <td>0</td>\n",
       "      <td>0.000002</td>\n",
       "      <td>0</td>\n",
       "      <td>0</td>\n",
       "      <td>6</td>\n",
       "      <td>0</td>\n",
       "      <td>40</td>\n",
       "      <td>2</td>\n",
       "      <td>80</td>\n",
       "      <td>0</td>\n",
       "      <td>0</td>\n",
       "      <td>1</td>\n",
       "      <td>11</td>\n",
       "    </tr>\n",
       "    <tr>\n",
       "      <td>10792540</td>\n",
       "      <td>67</td>\n",
       "      <td>13</td>\n",
       "      <td>7438</td>\n",
       "      <td>63420</td>\n",
       "      <td>34501</td>\n",
       "      <td>23</td>\n",
       "      <td>1</td>\n",
       "      <td>0</td>\n",
       "      <td>0.000002</td>\n",
       "      <td>0</td>\n",
       "      <td>0</td>\n",
       "      <td>6</td>\n",
       "      <td>0</td>\n",
       "      <td>40</td>\n",
       "      <td>2</td>\n",
       "      <td>80</td>\n",
       "      <td>0</td>\n",
       "      <td>0</td>\n",
       "      <td>1</td>\n",
       "      <td>11</td>\n",
       "    </tr>\n",
       "  </tbody>\n",
       "</table>\n",
       "<p>10792541 rows × 20 columns</p>\n",
       "</div>"
      ],
      "text/plain": [
       "          day  hour  addr   port   addr.1  port.1  enum  string.1    interval  \\\n",
       "0         298    12  7435  58687  4106478     123     2         0    0.114184   \n",
       "1         298    12  7435   1900  4347631    1900     2         0  160.367579   \n",
       "2         298    12  7435  32893  4106479     123     2         0    0.016986   \n",
       "3         298    12  7435  53395  3436559     443     1         0    0.003497   \n",
       "4         298    12  7435  52801  2903457      53     2         2    0.036724   \n",
       "...       ...   ...   ...    ...      ...     ...   ...       ...         ...   \n",
       "10792536   67    13  7438  63420  1261530      23     1         0    0.000006   \n",
       "10792537   67    13  7438  63420  2135393      23     1         0    0.000002   \n",
       "10792538   67    13  7438  63420  2317649      23     1         0    0.000002   \n",
       "10792539   67    13  7438  63420  2694905      23     1         0    0.000002   \n",
       "10792540   67    13  7438  63420    34501      23     1         0    0.000002   \n",
       "\n",
       "          count  count.1  string.2  count.2  string.3  count.3  count.4  \\\n",
       "0            48       48        10        0        15        1       76   \n",
       "1          7536        0         6        0         7       24     8208   \n",
       "2            48       48        10        0        15        1       76   \n",
       "3             0        0        10        0       142        5      212   \n",
       "4            34      311        10        0        15        1       62   \n",
       "...         ...      ...       ...      ...       ...      ...      ...   \n",
       "10792536      0        0         6        0        40        2       80   \n",
       "10792537      0        0         6        0        40        2       80   \n",
       "10792538      0        0         6        0        40        2       80   \n",
       "10792539      0        0         6        0        40        2       80   \n",
       "10792540      0        0         6        0        40        2       80   \n",
       "\n",
       "          count.5  count.6  set[string]  string.5  \n",
       "0               1       76            1         0  \n",
       "1               0        0            1         0  \n",
       "2               1       76            1         0  \n",
       "3               3      144            1         0  \n",
       "4               1      339            1         0  \n",
       "...           ...      ...          ...       ...  \n",
       "10792536        0        0            1        11  \n",
       "10792537        0        0            1        11  \n",
       "10792538        0        0            1        11  \n",
       "10792539        0        0            1        11  \n",
       "10792540        0        0            1        11  \n",
       "\n",
       "[10792541 rows x 20 columns]"
      ]
     },
     "execution_count": 102,
     "metadata": {},
     "output_type": "execute_result"
    }
   ],
   "source": [
    "big"
   ]
  },
  {
   "cell_type": "code",
   "execution_count": 103,
   "metadata": {},
   "outputs": [
    {
     "name": "stdout",
     "output_type": "stream",
     "text": [
      "<class 'pandas.core.frame.DataFrame'>\n",
      "Int64Index: 10792541 entries, 0 to 10792540\n",
      "Data columns (total 20 columns):\n",
      "day            int64\n",
      "hour           int64\n",
      "addr           int64\n",
      "port           int64\n",
      "addr.1         int64\n",
      "port.1         int64\n",
      "enum           int64\n",
      "string.1       int64\n",
      "interval       float64\n",
      "count          int32\n",
      "count.1        int32\n",
      "string.2       int64\n",
      "count.2        int64\n",
      "string.3       int64\n",
      "count.3        int64\n",
      "count.4        int64\n",
      "count.5        int64\n",
      "count.6        int64\n",
      "set[string]    int64\n",
      "string.5       int32\n",
      "dtypes: float64(1), int32(3), int64(16)\n",
      "memory usage: 1.6 GB\n"
     ]
    }
   ],
   "source": [
    "big.info()"
   ]
  },
  {
   "cell_type": "code",
   "execution_count": 104,
   "metadata": {},
   "outputs": [],
   "source": [
    "big.to_csv('BIG_1', sep = '\t')"
   ]
  },
  {
   "cell_type": "code",
   "execution_count": null,
   "metadata": {},
   "outputs": [],
   "source": []
  },
  {
   "cell_type": "markdown",
   "metadata": {},
   "source": [
    "# Обучение классических моделей"
   ]
  },
  {
   "cell_type": "code",
   "execution_count": 33,
   "metadata": {},
   "outputs": [],
   "source": [
    "y = big['string.5']\n",
    "x = big.drop('string.5', axis = 1)"
   ]
  },
  {
   "cell_type": "code",
   "execution_count": 34,
   "metadata": {},
   "outputs": [
    {
     "data": {
      "text/html": [
       "<div>\n",
       "<style scoped>\n",
       "    .dataframe tbody tr th:only-of-type {\n",
       "        vertical-align: middle;\n",
       "    }\n",
       "\n",
       "    .dataframe tbody tr th {\n",
       "        vertical-align: top;\n",
       "    }\n",
       "\n",
       "    .dataframe thead th {\n",
       "        text-align: right;\n",
       "    }\n",
       "</style>\n",
       "<table border=\"1\" class=\"dataframe\">\n",
       "  <thead>\n",
       "    <tr style=\"text-align: right;\">\n",
       "      <th></th>\n",
       "      <th>day</th>\n",
       "      <th>hour</th>\n",
       "      <th>addr</th>\n",
       "      <th>port</th>\n",
       "      <th>addr.1</th>\n",
       "      <th>port.1</th>\n",
       "      <th>enum</th>\n",
       "      <th>string.1</th>\n",
       "      <th>interval</th>\n",
       "      <th>count</th>\n",
       "      <th>count.1</th>\n",
       "      <th>string.2</th>\n",
       "      <th>count.2</th>\n",
       "      <th>string.3</th>\n",
       "      <th>count.3</th>\n",
       "      <th>count.4</th>\n",
       "      <th>count.5</th>\n",
       "      <th>count.6</th>\n",
       "      <th>set[string]</th>\n",
       "    </tr>\n",
       "  </thead>\n",
       "  <tbody>\n",
       "    <tr>\n",
       "      <td>0</td>\n",
       "      <td>298</td>\n",
       "      <td>12</td>\n",
       "      <td>7435</td>\n",
       "      <td>58687</td>\n",
       "      <td>4106478</td>\n",
       "      <td>123</td>\n",
       "      <td>2</td>\n",
       "      <td>0</td>\n",
       "      <td>0.114184</td>\n",
       "      <td>48</td>\n",
       "      <td>48</td>\n",
       "      <td>10</td>\n",
       "      <td>0</td>\n",
       "      <td>15</td>\n",
       "      <td>1</td>\n",
       "      <td>76</td>\n",
       "      <td>1</td>\n",
       "      <td>76</td>\n",
       "      <td>1</td>\n",
       "    </tr>\n",
       "    <tr>\n",
       "      <td>1</td>\n",
       "      <td>298</td>\n",
       "      <td>12</td>\n",
       "      <td>7435</td>\n",
       "      <td>1900</td>\n",
       "      <td>4347631</td>\n",
       "      <td>1900</td>\n",
       "      <td>2</td>\n",
       "      <td>0</td>\n",
       "      <td>160.367579</td>\n",
       "      <td>7536</td>\n",
       "      <td>0</td>\n",
       "      <td>6</td>\n",
       "      <td>0</td>\n",
       "      <td>7</td>\n",
       "      <td>24</td>\n",
       "      <td>8208</td>\n",
       "      <td>0</td>\n",
       "      <td>0</td>\n",
       "      <td>1</td>\n",
       "    </tr>\n",
       "    <tr>\n",
       "      <td>2</td>\n",
       "      <td>298</td>\n",
       "      <td>12</td>\n",
       "      <td>7435</td>\n",
       "      <td>32893</td>\n",
       "      <td>4106479</td>\n",
       "      <td>123</td>\n",
       "      <td>2</td>\n",
       "      <td>0</td>\n",
       "      <td>0.016986</td>\n",
       "      <td>48</td>\n",
       "      <td>48</td>\n",
       "      <td>10</td>\n",
       "      <td>0</td>\n",
       "      <td>15</td>\n",
       "      <td>1</td>\n",
       "      <td>76</td>\n",
       "      <td>1</td>\n",
       "      <td>76</td>\n",
       "      <td>1</td>\n",
       "    </tr>\n",
       "    <tr>\n",
       "      <td>3</td>\n",
       "      <td>298</td>\n",
       "      <td>12</td>\n",
       "      <td>7435</td>\n",
       "      <td>53395</td>\n",
       "      <td>3436559</td>\n",
       "      <td>443</td>\n",
       "      <td>1</td>\n",
       "      <td>0</td>\n",
       "      <td>0.003497</td>\n",
       "      <td>0</td>\n",
       "      <td>0</td>\n",
       "      <td>10</td>\n",
       "      <td>0</td>\n",
       "      <td>142</td>\n",
       "      <td>5</td>\n",
       "      <td>212</td>\n",
       "      <td>3</td>\n",
       "      <td>144</td>\n",
       "      <td>1</td>\n",
       "    </tr>\n",
       "    <tr>\n",
       "      <td>4</td>\n",
       "      <td>298</td>\n",
       "      <td>12</td>\n",
       "      <td>7435</td>\n",
       "      <td>52801</td>\n",
       "      <td>2903457</td>\n",
       "      <td>53</td>\n",
       "      <td>2</td>\n",
       "      <td>2</td>\n",
       "      <td>0.036724</td>\n",
       "      <td>34</td>\n",
       "      <td>311</td>\n",
       "      <td>10</td>\n",
       "      <td>0</td>\n",
       "      <td>15</td>\n",
       "      <td>1</td>\n",
       "      <td>62</td>\n",
       "      <td>1</td>\n",
       "      <td>339</td>\n",
       "      <td>1</td>\n",
       "    </tr>\n",
       "    <tr>\n",
       "      <td>...</td>\n",
       "      <td>...</td>\n",
       "      <td>...</td>\n",
       "      <td>...</td>\n",
       "      <td>...</td>\n",
       "      <td>...</td>\n",
       "      <td>...</td>\n",
       "      <td>...</td>\n",
       "      <td>...</td>\n",
       "      <td>...</td>\n",
       "      <td>...</td>\n",
       "      <td>...</td>\n",
       "      <td>...</td>\n",
       "      <td>...</td>\n",
       "      <td>...</td>\n",
       "      <td>...</td>\n",
       "      <td>...</td>\n",
       "      <td>...</td>\n",
       "      <td>...</td>\n",
       "      <td>...</td>\n",
       "    </tr>\n",
       "    <tr>\n",
       "      <td>10792536</td>\n",
       "      <td>67</td>\n",
       "      <td>13</td>\n",
       "      <td>7438</td>\n",
       "      <td>63420</td>\n",
       "      <td>1261530</td>\n",
       "      <td>23</td>\n",
       "      <td>1</td>\n",
       "      <td>0</td>\n",
       "      <td>0.000006</td>\n",
       "      <td>0</td>\n",
       "      <td>0</td>\n",
       "      <td>6</td>\n",
       "      <td>0</td>\n",
       "      <td>40</td>\n",
       "      <td>2</td>\n",
       "      <td>80</td>\n",
       "      <td>0</td>\n",
       "      <td>0</td>\n",
       "      <td>1</td>\n",
       "    </tr>\n",
       "    <tr>\n",
       "      <td>10792537</td>\n",
       "      <td>67</td>\n",
       "      <td>13</td>\n",
       "      <td>7438</td>\n",
       "      <td>63420</td>\n",
       "      <td>2135393</td>\n",
       "      <td>23</td>\n",
       "      <td>1</td>\n",
       "      <td>0</td>\n",
       "      <td>0.000002</td>\n",
       "      <td>0</td>\n",
       "      <td>0</td>\n",
       "      <td>6</td>\n",
       "      <td>0</td>\n",
       "      <td>40</td>\n",
       "      <td>2</td>\n",
       "      <td>80</td>\n",
       "      <td>0</td>\n",
       "      <td>0</td>\n",
       "      <td>1</td>\n",
       "    </tr>\n",
       "    <tr>\n",
       "      <td>10792538</td>\n",
       "      <td>67</td>\n",
       "      <td>13</td>\n",
       "      <td>7438</td>\n",
       "      <td>63420</td>\n",
       "      <td>2317649</td>\n",
       "      <td>23</td>\n",
       "      <td>1</td>\n",
       "      <td>0</td>\n",
       "      <td>0.000002</td>\n",
       "      <td>0</td>\n",
       "      <td>0</td>\n",
       "      <td>6</td>\n",
       "      <td>0</td>\n",
       "      <td>40</td>\n",
       "      <td>2</td>\n",
       "      <td>80</td>\n",
       "      <td>0</td>\n",
       "      <td>0</td>\n",
       "      <td>1</td>\n",
       "    </tr>\n",
       "    <tr>\n",
       "      <td>10792539</td>\n",
       "      <td>67</td>\n",
       "      <td>13</td>\n",
       "      <td>7438</td>\n",
       "      <td>63420</td>\n",
       "      <td>2694905</td>\n",
       "      <td>23</td>\n",
       "      <td>1</td>\n",
       "      <td>0</td>\n",
       "      <td>0.000002</td>\n",
       "      <td>0</td>\n",
       "      <td>0</td>\n",
       "      <td>6</td>\n",
       "      <td>0</td>\n",
       "      <td>40</td>\n",
       "      <td>2</td>\n",
       "      <td>80</td>\n",
       "      <td>0</td>\n",
       "      <td>0</td>\n",
       "      <td>1</td>\n",
       "    </tr>\n",
       "    <tr>\n",
       "      <td>10792540</td>\n",
       "      <td>67</td>\n",
       "      <td>13</td>\n",
       "      <td>7438</td>\n",
       "      <td>63420</td>\n",
       "      <td>34501</td>\n",
       "      <td>23</td>\n",
       "      <td>1</td>\n",
       "      <td>0</td>\n",
       "      <td>0.000002</td>\n",
       "      <td>0</td>\n",
       "      <td>0</td>\n",
       "      <td>6</td>\n",
       "      <td>0</td>\n",
       "      <td>40</td>\n",
       "      <td>2</td>\n",
       "      <td>80</td>\n",
       "      <td>0</td>\n",
       "      <td>0</td>\n",
       "      <td>1</td>\n",
       "    </tr>\n",
       "  </tbody>\n",
       "</table>\n",
       "<p>10792541 rows × 19 columns</p>\n",
       "</div>"
      ],
      "text/plain": [
       "          day  hour  addr   port   addr.1  port.1  enum  string.1    interval  \\\n",
       "0         298    12  7435  58687  4106478     123     2         0    0.114184   \n",
       "1         298    12  7435   1900  4347631    1900     2         0  160.367579   \n",
       "2         298    12  7435  32893  4106479     123     2         0    0.016986   \n",
       "3         298    12  7435  53395  3436559     443     1         0    0.003497   \n",
       "4         298    12  7435  52801  2903457      53     2         2    0.036724   \n",
       "...       ...   ...   ...    ...      ...     ...   ...       ...         ...   \n",
       "10792536   67    13  7438  63420  1261530      23     1         0    0.000006   \n",
       "10792537   67    13  7438  63420  2135393      23     1         0    0.000002   \n",
       "10792538   67    13  7438  63420  2317649      23     1         0    0.000002   \n",
       "10792539   67    13  7438  63420  2694905      23     1         0    0.000002   \n",
       "10792540   67    13  7438  63420    34501      23     1         0    0.000002   \n",
       "\n",
       "          count  count.1  string.2  count.2  string.3  count.3  count.4  \\\n",
       "0            48       48        10        0        15        1       76   \n",
       "1          7536        0         6        0         7       24     8208   \n",
       "2            48       48        10        0        15        1       76   \n",
       "3             0        0        10        0       142        5      212   \n",
       "4            34      311        10        0        15        1       62   \n",
       "...         ...      ...       ...      ...       ...      ...      ...   \n",
       "10792536      0        0         6        0        40        2       80   \n",
       "10792537      0        0         6        0        40        2       80   \n",
       "10792538      0        0         6        0        40        2       80   \n",
       "10792539      0        0         6        0        40        2       80   \n",
       "10792540      0        0         6        0        40        2       80   \n",
       "\n",
       "          count.5  count.6  set[string]  \n",
       "0               1       76            1  \n",
       "1               0        0            1  \n",
       "2               1       76            1  \n",
       "3               3      144            1  \n",
       "4               1      339            1  \n",
       "...           ...      ...          ...  \n",
       "10792536        0        0            1  \n",
       "10792537        0        0            1  \n",
       "10792538        0        0            1  \n",
       "10792539        0        0            1  \n",
       "10792540        0        0            1  \n",
       "\n",
       "[10792541 rows x 19 columns]"
      ]
     },
     "execution_count": 34,
     "metadata": {},
     "output_type": "execute_result"
    }
   ],
   "source": [
    "x"
   ]
  },
  {
   "cell_type": "code",
   "execution_count": 35,
   "metadata": {},
   "outputs": [
    {
     "data": {
      "text/plain": [
       "0            0\n",
       "1            0\n",
       "2            0\n",
       "3            0\n",
       "4            0\n",
       "            ..\n",
       "10792536    11\n",
       "10792537    11\n",
       "10792538    11\n",
       "10792539    11\n",
       "10792540    11\n",
       "Name: string.5, Length: 10792541, dtype: int64"
      ]
     },
     "execution_count": 35,
     "metadata": {},
     "output_type": "execute_result"
    }
   ],
   "source": [
    "y"
   ]
  },
  {
   "cell_type": "code",
   "execution_count": 42,
   "metadata": {},
   "outputs": [],
   "source": [
    "X_train, X_test, y_train, y_test = train_test_split(x, y, random_state=10, test_size=0.7)"
   ]
  },
  {
   "cell_type": "code",
   "execution_count": null,
   "metadata": {},
   "outputs": [],
   "source": []
  },
  {
   "cell_type": "markdown",
   "metadata": {},
   "source": [
    "# Метод гауссовского наивного Байеса"
   ]
  },
  {
   "cell_type": "code",
   "execution_count": 47,
   "metadata": {},
   "outputs": [],
   "source": [
    "grid_bayes = GaussianNB()"
   ]
  },
  {
   "cell_type": "code",
   "execution_count": 48,
   "metadata": {
    "scrolled": true
   },
   "outputs": [
    {
     "name": "stdout",
     "output_type": "stream",
     "text": [
      "Wall time: 1.75 s\n"
     ]
    },
    {
     "data": {
      "text/plain": [
       "GaussianNB(priors=None, var_smoothing=1e-09)"
      ]
     },
     "execution_count": 48,
     "metadata": {},
     "output_type": "execute_result"
    }
   ],
   "source": [
    "%%time\n",
    "grid_bayes.fit(X_train, y_train)"
   ]
  },
  {
   "cell_type": "code",
   "execution_count": 49,
   "metadata": {},
   "outputs": [],
   "source": [
    "y_pred = grid_bayes.predict(X_test)"
   ]
  },
  {
   "cell_type": "code",
   "execution_count": 50,
   "metadata": {},
   "outputs": [
    {
     "data": {
      "text/plain": [
       "0.5955174863487073"
      ]
     },
     "execution_count": 50,
     "metadata": {},
     "output_type": "execute_result"
    }
   ],
   "source": [
    "accuracy_score(y_test, y_pred)"
   ]
  },
  {
   "cell_type": "code",
   "execution_count": 51,
   "metadata": {},
   "outputs": [
    {
     "data": {
      "image/png": "[encoded data removed]",
      "text/plain": [
       "<Figure size 864x576 with 2 Axes>"
      ]
     },
     "metadata": {
      "needs_background": "light"
     },
     "output_type": "display_data"
    }
   ],
   "source": [
    "con_mat(y_test, y_pred)"
   ]
  },
  {
   "cell_type": "code",
   "execution_count": 139,
   "metadata": {},
   "outputs": [
    {
     "data": {
      "text/plain": [
       "['grid_bayes_itog_1.pkl']"
      ]
     },
     "execution_count": 139,
     "metadata": {},
     "output_type": "execute_result"
    }
   ],
   "source": [
    "joblib.dump(grid_bayes, 'grid_bayes_itog_1.pkl')"
   ]
  },
  {
   "cell_type": "code",
   "execution_count": null,
   "metadata": {},
   "outputs": [],
   "source": []
  },
  {
   "cell_type": "markdown",
   "metadata": {},
   "source": [
    "# Метод наивного Байеса на модели Бернулли"
   ]
  },
  {
   "cell_type": "code",
   "execution_count": 20,
   "metadata": {},
   "outputs": [],
   "source": [
    "grid_ber_bayes = BernoulliNB()"
   ]
  },
  {
   "cell_type": "code",
   "execution_count": 68,
   "metadata": {},
   "outputs": [
    {
     "name": "stdout",
     "output_type": "stream",
     "text": [
      "Wall time: 1.56 s\n"
     ]
    },
    {
     "data": {
      "text/plain": [
       "BernoulliNB(alpha=1.0, binarize=0.0, class_prior=None, fit_prior=True)"
      ]
     },
     "execution_count": 68,
     "metadata": {},
     "output_type": "execute_result"
    }
   ],
   "source": [
    "%%time\n",
    "grid_ber_bayes.fit(X_train, y_train)"
   ]
  },
  {
   "cell_type": "code",
   "execution_count": 69,
   "metadata": {},
   "outputs": [],
   "source": [
    "y_pred = grid_ber_bayes.predict(X_test)"
   ]
  },
  {
   "cell_type": "code",
   "execution_count": 71,
   "metadata": {},
   "outputs": [
    {
     "data": {
      "text/plain": [
       "0.7450195432586446"
      ]
     },
     "execution_count": 71,
     "metadata": {},
     "output_type": "execute_result"
    }
   ],
   "source": [
    "accuracy_score(y_test, y_pred)"
   ]
  },
  {
   "cell_type": "code",
   "execution_count": 75,
   "metadata": {
    "scrolled": false
   },
   "outputs": [
    {
     "data": {
      "image/png": "[encoded data removed]",
      "text/plain": [
       "<Figure size 720x504 with 2 Axes>"
      ]
     },
     "metadata": {
      "needs_background": "light"
     },
     "output_type": "display_data"
    }
   ],
   "source": [
    "array = confusion_matrix(y_test, y_pred)\n",
    "df_cm = pd.DataFrame(array, index = [0,1,2,3,4,5,6,7,8,9,10,11],\n",
    "                  columns = [0,1,2,3,4,5,6,7,8,9,10,11])\n",
    "plt.figure(figsize = (10,7))\n",
    "sns.heatmap(df_cm, annot=True);"
   ]
  },
  {
   "cell_type": "code",
   "execution_count": 72,
   "metadata": {},
   "outputs": [
    {
     "data": {
      "text/plain": [
       "['grid_ber_bayes_itog_1.pkl']"
      ]
     },
     "execution_count": 72,
     "metadata": {},
     "output_type": "execute_result"
    }
   ],
   "source": [
    "joblib.dump(grid_ber_bayes, 'grid_ber_bayes_itog_1.pkl')"
   ]
  },
  {
   "cell_type": "code",
   "execution_count": null,
   "metadata": {},
   "outputs": [],
   "source": []
  },
  {
   "cell_type": "markdown",
   "metadata": {},
   "source": [
    "# Метод KNN (К ближайших соседей)"
   ]
  },
  {
   "cell_type": "code",
   "execution_count": 16,
   "metadata": {},
   "outputs": [],
   "source": [
    "grid_knn = GridSearchCV(KNeighborsClassifier(),\n",
    "                        param_grid={'n_neighbors': range(1,15)},\n",
    "                        cv = 5)"
   ]
  },
  {
   "cell_type": "code",
   "execution_count": null,
   "metadata": {},
   "outputs": [
    {
     "name": "stderr",
     "output_type": "stream",
     "text": [
      "C:\\Users\\ALEX\\Anaconda3\\lib\\site-packages\\sklearn\\model_selection\\_split.py:657: Warning: The least populated class in y has only 2 members, which is too few. The minimum number of members in any class cannot be less than n_splits=5.\n",
      "  % (min_groups, self.n_splits)), Warning)\n"
     ]
    }
   ],
   "source": [
    "%%time\n",
    "grid_knn.fit(X_train, y_train)"
   ]
  },
  {
   "cell_type": "code",
   "execution_count": null,
   "metadata": {},
   "outputs": [],
   "source": [
    "grid_knn.best_estimator_"
   ]
  },
  {
   "cell_type": "code",
   "execution_count": null,
   "metadata": {},
   "outputs": [],
   "source": [
    "accuracy_score(y_test, grid_knn.predict(X_test))"
   ]
  },
  {
   "cell_type": "code",
   "execution_count": null,
   "metadata": {},
   "outputs": [],
   "source": [
    "# ИЗ ЗА ДЛИТЕЛЬНОГО ОБУЧЕНИЯ (БОЛЕЕ 1.5 часа) НЕ ДОДЕЛАНО"
   ]
  },
  {
   "cell_type": "code",
   "execution_count": null,
   "metadata": {},
   "outputs": [],
   "source": []
  },
  {
   "cell_type": "markdown",
   "metadata": {},
   "source": [
    "# Метод логистической регресии"
   ]
  },
  {
   "cell_type": "code",
   "execution_count": 11,
   "metadata": {},
   "outputs": [],
   "source": [
    "grid_logreg = LogisticRegression(n_jobs=-1)"
   ]
  },
  {
   "cell_type": "code",
   "execution_count": 12,
   "metadata": {
    "scrolled": false
   },
   "outputs": [
    {
     "name": "stderr",
     "output_type": "stream",
     "text": [
      "C:\\Users\\ALEX\\Anaconda3\\lib\\site-packages\\sklearn\\linear_model\\logistic.py:432: FutureWarning: Default solver will be changed to 'lbfgs' in 0.22. Specify a solver to silence this warning.\n",
      "  FutureWarning)\n",
      "C:\\Users\\ALEX\\Anaconda3\\lib\\site-packages\\sklearn\\linear_model\\logistic.py:469: FutureWarning: Default multi_class will be changed to 'auto' in 0.22. Specify the multi_class option to silence this warning.\n",
      "  \"this warning.\", FutureWarning)\n",
      "C:\\Users\\ALEX\\Anaconda3\\lib\\site-packages\\sklearn\\linear_model\\logistic.py:1544: UserWarning: 'n_jobs' > 1 does not have any effect when 'solver' is set to 'liblinear'. Got 'n_jobs' = 16.\n",
      "  \" = {}.\".format(effective_n_jobs(self.n_jobs)))\n"
     ]
    },
    {
     "name": "stdout",
     "output_type": "stream",
     "text": [
      "Wall time: 17min 27s\n"
     ]
    },
    {
     "name": "stderr",
     "output_type": "stream",
     "text": [
      "C:\\Users\\ALEX\\Anaconda3\\lib\\site-packages\\sklearn\\svm\\base.py:929: ConvergenceWarning: Liblinear failed to converge, increase the number of iterations.\n",
      "  \"the number of iterations.\", ConvergenceWarning)\n"
     ]
    },
    {
     "data": {
      "text/plain": [
       "LogisticRegression(C=1.0, class_weight=None, dual=False, fit_intercept=True,\n",
       "                   intercept_scaling=1, l1_ratio=None, max_iter=100,\n",
       "                   multi_class='warn', n_jobs=-1, penalty='l2',\n",
       "                   random_state=None, solver='warn', tol=0.0001, verbose=0,\n",
       "                   warm_start=False)"
      ]
     },
     "execution_count": 12,
     "metadata": {},
     "output_type": "execute_result"
    }
   ],
   "source": [
    "%%time\n",
    "grid_logreg.fit(X_train, y_train)"
   ]
  },
  {
   "cell_type": "code",
   "execution_count": 13,
   "metadata": {},
   "outputs": [],
   "source": [
    "y_pred = grid_logreg.predict(X_test)"
   ]
  },
  {
   "cell_type": "code",
   "execution_count": 14,
   "metadata": {},
   "outputs": [
    {
     "data": {
      "text/plain": [
       "0.8187105142321172"
      ]
     },
     "execution_count": 14,
     "metadata": {},
     "output_type": "execute_result"
    }
   ],
   "source": [
    "accuracy_score(y_test, y_pred)"
   ]
  },
  {
   "cell_type": "code",
   "execution_count": 18,
   "metadata": {},
   "outputs": [
    {
     "data": {
      "image/png": "[encoded data removed]",
      "text/plain": [
       "<Figure size 720x504 with 2 Axes>"
      ]
     },
     "metadata": {
      "needs_background": "light"
     },
     "output_type": "display_data"
    }
   ],
   "source": [
    "array = confusion_matrix(y_test, y_pred)\n",
    "df_cm = pd.DataFrame(array, index = [0,1,2,3,4,5,6,7,8,9,10,11],\n",
    "                  columns = [0,1,2,3,4,5,6,7,8,9,10,11])\n",
    "plt.figure(figsize = (10,7))\n",
    "sns.heatmap(df_cm, annot=True);"
   ]
  },
  {
   "cell_type": "code",
   "execution_count": 32,
   "metadata": {},
   "outputs": [
    {
     "data": {
      "text/plain": [
       "['grid_logreg_itog_1.pkl']"
      ]
     },
     "execution_count": 32,
     "metadata": {},
     "output_type": "execute_result"
    }
   ],
   "source": [
    "joblib.dump(grid_logreg, 'grid_logreg_itog_1.pkl')"
   ]
  },
  {
   "cell_type": "code",
   "execution_count": null,
   "metadata": {},
   "outputs": [],
   "source": []
  },
  {
   "cell_type": "markdown",
   "metadata": {},
   "source": [
    "# Метод логистической регресии с CV (кросс валидацией)"
   ]
  },
  {
   "cell_type": "code",
   "execution_count": 46,
   "metadata": {},
   "outputs": [],
   "source": [
    "grid_logregCV = LogisticRegressionCV(cv=7, n_jobs=-1)"
   ]
  },
  {
   "cell_type": "code",
   "execution_count": null,
   "metadata": {},
   "outputs": [
    {
     "name": "stderr",
     "output_type": "stream",
     "text": [
      "C:\\Users\\ALEX\\Anaconda3\\lib\\site-packages\\sklearn\\linear_model\\logistic.py:469: FutureWarning: Default multi_class will be changed to 'auto' in 0.22. Specify the multi_class option to silence this warning.\n",
      "  \"this warning.\", FutureWarning)\n",
      "C:\\Users\\ALEX\\Anaconda3\\lib\\site-packages\\sklearn\\model_selection\\_split.py:657: Warning: The least populated class in y has only 2 members, which is too few. The minimum number of members in any class cannot be less than n_splits=7.\n",
      "  % (min_groups, self.n_splits)), Warning)\n"
     ]
    }
   ],
   "source": [
    "%%time\n",
    "grid_logregCV.fit(X_train, y_train)"
   ]
  },
  {
   "cell_type": "code",
   "execution_count": 1,
   "metadata": {},
   "outputs": [],
   "source": [
    "# Не реализовано т.к. обучение перегружает систему и та зависает"
   ]
  },
  {
   "cell_type": "code",
   "execution_count": null,
   "metadata": {},
   "outputs": [],
   "source": []
  },
  {
   "cell_type": "markdown",
   "metadata": {},
   "source": [
    "# Метод пассивно-агрессивного классификатора"
   ]
  },
  {
   "cell_type": "code",
   "execution_count": 37,
   "metadata": {},
   "outputs": [],
   "source": [
    "grid_passagg = PassiveAggressiveClassifier(n_jobs=-1)"
   ]
  },
  {
   "cell_type": "code",
   "execution_count": 43,
   "metadata": {},
   "outputs": [
    {
     "name": "stdout",
     "output_type": "stream",
     "text": [
      "Wall time: 48.8 s\n"
     ]
    },
    {
     "data": {
      "text/plain": [
       "PassiveAggressiveClassifier(C=1.0, average=False, class_weight=None,\n",
       "                            early_stopping=False, fit_intercept=True,\n",
       "                            loss='hinge', max_iter=1000, n_iter_no_change=5,\n",
       "                            n_jobs=-1, random_state=None, shuffle=True,\n",
       "                            tol=0.001, validation_fraction=0.1, verbose=0,\n",
       "                            warm_start=False)"
      ]
     },
     "execution_count": 43,
     "metadata": {},
     "output_type": "execute_result"
    }
   ],
   "source": [
    "%%time\n",
    "grid_passagg.fit(X_train, y_train)"
   ]
  },
  {
   "cell_type": "code",
   "execution_count": 44,
   "metadata": {},
   "outputs": [],
   "source": [
    "y_pred = grid_passagg.predict(X_test)"
   ]
  },
  {
   "cell_type": "code",
   "execution_count": 45,
   "metadata": {},
   "outputs": [
    {
     "data": {
      "text/plain": [
       "0.391271538187947"
      ]
     },
     "execution_count": 45,
     "metadata": {},
     "output_type": "execute_result"
    }
   ],
   "source": [
    "accuracy_score(y_test, y_pred)"
   ]
  },
  {
   "cell_type": "code",
   "execution_count": 46,
   "metadata": {},
   "outputs": [
    {
     "data": {
      "image/png": "[encoded data removed]",
      "text/plain": [
       "<Figure size 864x576 with 2 Axes>"
      ]
     },
     "metadata": {
      "needs_background": "light"
     },
     "output_type": "display_data"
    }
   ],
   "source": [
    "con_mat(y_test, y_pred)"
   ]
  },
  {
   "cell_type": "code",
   "execution_count": 33,
   "metadata": {},
   "outputs": [
    {
     "data": {
      "text/plain": [
       "['grid_passagg_itog_1.pkl']"
      ]
     },
     "execution_count": 33,
     "metadata": {},
     "output_type": "execute_result"
    }
   ],
   "source": [
    "joblib.dump(grid_passagg, 'grid_passagg_itog_1.pkl')"
   ]
  },
  {
   "cell_type": "code",
   "execution_count": null,
   "metadata": {},
   "outputs": [],
   "source": []
  },
  {
   "cell_type": "markdown",
   "metadata": {},
   "source": [
    "# Метод с использованием регрессии методом гребня"
   ]
  },
  {
   "cell_type": "code",
   "execution_count": 25,
   "metadata": {},
   "outputs": [],
   "source": [
    "grid_ridge = RidgeClassifier()"
   ]
  },
  {
   "cell_type": "code",
   "execution_count": 26,
   "metadata": {},
   "outputs": [
    {
     "name": "stdout",
     "output_type": "stream",
     "text": [
      "Wall time: 5.81 s\n"
     ]
    },
    {
     "data": {
      "text/plain": [
       "RidgeClassifier(alpha=1.0, class_weight=None, copy_X=True, fit_intercept=True,\n",
       "                max_iter=None, normalize=False, random_state=None,\n",
       "                solver='auto', tol=0.001)"
      ]
     },
     "execution_count": 26,
     "metadata": {},
     "output_type": "execute_result"
    }
   ],
   "source": [
    "%%time\n",
    "grid_ridge.fit(X_train, y_train)"
   ]
  },
  {
   "cell_type": "code",
   "execution_count": 27,
   "metadata": {},
   "outputs": [],
   "source": [
    "y_pred = grid_ridge.predict(X_test)"
   ]
  },
  {
   "cell_type": "code",
   "execution_count": 28,
   "metadata": {},
   "outputs": [
    {
     "data": {
      "text/plain": [
       "0.9389194574718863"
      ]
     },
     "execution_count": 28,
     "metadata": {},
     "output_type": "execute_result"
    }
   ],
   "source": [
    "accuracy_score(y_test, grid_ridge.predict(X_test))"
   ]
  },
  {
   "cell_type": "code",
   "execution_count": 32,
   "metadata": {},
   "outputs": [
    {
     "data": {
      "image/png": "[encoded data removed]",
      "text/plain": [
       "<Figure size 864x576 with 2 Axes>"
      ]
     },
     "metadata": {
      "needs_background": "light"
     },
     "output_type": "display_data"
    }
   ],
   "source": [
    "con_mat(y_test, y_pred)"
   ]
  },
  {
   "cell_type": "code",
   "execution_count": 44,
   "metadata": {},
   "outputs": [
    {
     "data": {
      "text/plain": [
       "['grid_ridge_itog_1.pkl']"
      ]
     },
     "execution_count": 44,
     "metadata": {},
     "output_type": "execute_result"
    }
   ],
   "source": [
    "joblib.dump(grid_ridge, 'grid_ridge_itog_1.pkl')"
   ]
  },
  {
   "cell_type": "code",
   "execution_count": null,
   "metadata": {},
   "outputs": [],
   "source": []
  },
  {
   "cell_type": "code",
   "execution_count": null,
   "metadata": {},
   "outputs": [],
   "source": []
  }
 ],
 "metadata": {
  "kernelspec": {
   "display_name": "Python 3",
   "language": "python",
   "name": "python3"
  },
  "language_info": {
   "codemirror_mode": {
    "name": "ipython",
    "version": 3
   },
   "file_extension": ".py",
   "mimetype": "text/x-python",
   "name": "python",
   "nbconvert_exporter": "python",
   "pygments_lexer": "ipython3",
   "version": "3.7.4"
  }
 },
 "nbformat": 4,
 "nbformat_minor": 2
}
