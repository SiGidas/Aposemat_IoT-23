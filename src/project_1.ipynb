{
 "cells": [
  {
   "cell_type": "markdown",
   "metadata": {},
   "source": [
    "# Библиотеки"
   ]
  },
  {
   "cell_type": "code",
   "execution_count": 1,
   "metadata": {},
   "outputs": [],
   "source": [
    "import pandas as pd\n",
    "import numpy as np\n",
    "import dask.dataframe as dd\n",
    "import matplotlib.pyplot as plt\n",
    "import seaborn as sns\n",
    "from sklearn.model_selection import GridSearchCV\n",
    "# для подбора гипер параметров в моделях\n",
    "from sklearn.metrics import mean_absolute_error, mean_squared_error\n",
    "# метрики с функциями потерь\n",
    "\n",
    "%matplotlib inline \n",
    "# отображает графику в юпитере\n",
    "%config IPCompleter.greedy=True \n",
    "# должно ускорять работу таба"
   ]
  },
  {
   "cell_type": "code",
   "execution_count": null,
   "metadata": {},
   "outputs": [],
   "source": [
    "from sklearn.preprocessing import LabelEncoder\n",
    "from sklearn.preprocessing import OneHotEncoder\n",
    "# энкодеры для преобразования качественных признаков в количественные\n",
    "from sklearn.compose import ColumnTransformer\n",
    "# строит столбцы для ванхот энкодера"
   ]
  },
  {
   "cell_type": "code",
   "execution_count": null,
   "metadata": {},
   "outputs": [],
   "source": [
    "from catboost import CatBoostClassifier, Pool, sum_models\n",
    "# библиотека бустинга от яндекса"
   ]
  },
  {
   "cell_type": "code",
   "execution_count": null,
   "metadata": {},
   "outputs": [],
   "source": []
  },
  {
   "cell_type": "markdown",
   "metadata": {},
   "source": [
    "# Код для предобработки файлов, удобного чтения в юпитере"
   ]
  },
  {
   "cell_type": "code",
   "execution_count": 87,
   "metadata": {},
   "outputs": [],
   "source": [
    "f = open('IoTScenarios/CTU-IoT-Malware-Capture-49-1/bro/conn.log.labeled', 'r')\n",
    "g = open('IoT/CTU-IoT-Malware-Capture-49-1/conn.log.labeled', 'w')\n",
    "zlo = '   '\n",
    "pra = '\t'\n",
    "sc = 0\n",
    "for line in f:\n",
    "    if sc < 7:                # для удаления шапки файла\n",
    "        line = ''\n",
    "        sc += 1\n",
    "        continue\n",
    "    if line[0:6] == '#close': # для удаления подвала файла\n",
    "        line = ''\n",
    "        sc += 1\n",
    "        continue\n",
    "    if sc == 7:\n",
    "        line = line.replace('   ', '\t')\n",
    "        g.write(line[7:])\n",
    "        sc += 1\n",
    "        continue\n",
    "    if sc > 7:\n",
    "        line = line.replace('   ', '\t')\n",
    "        g.write(line)\n",
    "f.close()\n",
    "g.close()"
   ]
  },
  {
   "cell_type": "code",
   "execution_count": null,
   "metadata": {},
   "outputs": [],
   "source": []
  },
  {
   "cell_type": "markdown",
   "metadata": {},
   "source": [
    "# Предобработка (разбивка) больших файлов"
   ]
  },
  {
   "cell_type": "code",
   "execution_count": null,
   "metadata": {},
   "outputs": [],
   "source": [
    "# файлы создаются по 5 000 000 замеров"
   ]
  },
  {
   "cell_type": "code",
   "execution_count": null,
   "metadata": {},
   "outputs": [],
   "source": [
    "# код для создания первой части (файла) большого файла\n",
    "f = open('IoT/CTU-IoT-Malware-Capture-17-1/conn.log.labeled', 'r')\n",
    "g = open('IoT/CTU-IoT-Malware-Capture-17-1/17_1.log.labeled', 'w')\n",
    "zlo = '   '\n",
    "pra = '\t'\n",
    "sc = 0\n",
    "for line in f:\n",
    "    if sc < 5000001:\n",
    "        line = line.replace('   ', '\t')\n",
    "        g.write(line)\n",
    "        sc += 1\n",
    "        continue\n",
    "    if 5000001 == sc:\n",
    "        break\n",
    "f.close()\n",
    "g.close()"
   ]
  },
  {
   "cell_type": "code",
   "execution_count": null,
   "metadata": {},
   "outputs": [],
   "source": [
    "scc = 2\n",
    "# счетчик номера файла\n",
    "al = 10000001\n",
    "# счеткик измерений"
   ]
  },
  {
   "cell_type": "code",
   "execution_count": null,
   "metadata": {},
   "outputs": [],
   "source": [
    "# код для создания последующих частей (файлов) большого файла\n",
    "# при запуске данного кода в цикле будет зацикливание на запись последнего файла\n",
    "fail = 'IoT/CTU-IoT-Malware-Capture-17-1/17_'+ str(scc) + '.log.labeled'\n",
    "f = open('IoT/CTU-IoT-Malware-Capture-17-1/conn.log.labeled', 'r')\n",
    "g = open(fail, 'w')\n",
    "sc = 0\n",
    "for line in f:\n",
    "    if sc == 0:\n",
    "        g.write(line)\n",
    "        sc += 1\n",
    "        continue\n",
    "    if  sc <= al - 5000000:\n",
    "        line = ''\n",
    "        sc += 1\n",
    "        continue\n",
    "    if al >= sc > al - 5000000:\n",
    "        g.write(line)\n",
    "        sc += 1\n",
    "        continue\n",
    "    if sc > al:\n",
    "        scc += 1\n",
    "        al += 5000000\n",
    "        break\n",
    "f.close()\n",
    "g.close()"
   ]
  },
  {
   "cell_type": "code",
   "execution_count": null,
   "metadata": {},
   "outputs": [],
   "source": []
  },
  {
   "cell_type": "markdown",
   "metadata": {},
   "source": [
    "# Загрузка данных "
   ]
  },
  {
   "cell_type": "code",
   "execution_count": 13,
   "metadata": {},
   "outputs": [],
   "source": [
    "df = dd.read_csv('IoT/CTU-IoT-Malware-Capture-1-1/conn.log.labeled', sep = '\t')\n",
    "# используется для больших файлов не влезающих в память"
   ]
  },
  {
   "cell_type": "code",
   "execution_count": null,
   "metadata": {},
   "outputs": [],
   "source": [
    "# НЕ ЗАПУСКАТЬ! Не работает\n",
    "data = df.loc[:1].compute()\n",
    "data = data.compute()\n",
    "# получаем дата фрейм пандаса небольшого размера от исходного"
   ]
  },
  {
   "cell_type": "code",
   "execution_count": null,
   "metadata": {},
   "outputs": [],
   "source": []
  },
  {
   "cell_type": "code",
   "execution_count": 88,
   "metadata": {
    "collapsed": true
   },
   "outputs": [
    {
     "name": "stderr",
     "output_type": "stream",
     "text": [
      "C:\\Users\\ALEX\\Anaconda3\\lib\\site-packages\\IPython\\core\\interactiveshell.py:3058: DtypeWarning: Columns (8,9,10) have mixed types. Specify dtype option on import or set low_memory=False.\n",
      "  interactivity=interactivity, compiler=compiler, result=result)\n"
     ]
    }
   ],
   "source": [
    "df = pd.read_csv('IoT/CTU-IoT-Malware-Capture-49-1/conn.log.labeled', sep = '\t')\n",
    "# для маленьких файлов"
   ]
  },
  {
   "cell_type": "code",
   "execution_count": null,
   "metadata": {},
   "outputs": [],
   "source": []
  },
  {
   "cell_type": "markdown",
   "metadata": {},
   "source": [
    "# Обработка времени"
   ]
  },
  {
   "cell_type": "code",
   "execution_count": null,
   "metadata": {},
   "outputs": [],
   "source": [
    "df['time'] = pd.to_datetime(df['time'],unit='s')\n",
    "#преобразование линвремя в норм дату и к типу дыты\n",
    "date = df['time'].apply(lambda x: x.date()).sort_values()\n",
    "# массив из дат по выборке либо времени(x.time)\n",
    "date\n",
    "#тут видны границы времени"
   ]
  },
  {
   "cell_type": "code",
   "execution_count": null,
   "metadata": {},
   "outputs": [],
   "source": [
    "day = big['time'].apply(lambda x: x.timetuple().tm_yday)\n",
    "# получаем день в году\n",
    "hour = big['time'].apply(lambda x: x.hour)\n",
    "# получаем час\n",
    "\n",
    "day = pd.DataFrame(day)\n",
    "hour = pd.DataFrame(hour)\n",
    "# преобразуем в датафреймы\n",
    "day.rename(columns={'time': 'day'}, inplace=True)\n",
    "hour.rename(columns={'time': 'hour'}, inplace=True)\n",
    "# меняем название столбцов\n",
    "# код не обязательный, но оставлю\n",
    "\n",
    "big.insert(1, 'hour', hour)\n",
    "big.insert(1, 'day', day)\n",
    "# добавляем новые признаки в начало датафрейма"
   ]
  },
  {
   "cell_type": "code",
   "execution_count": null,
   "metadata": {},
   "outputs": [],
   "source": [
    "big = big.drop('time', axis = 1)\n",
    "# удаляем старый признак"
   ]
  },
  {
   "cell_type": "code",
   "execution_count": null,
   "metadata": {},
   "outputs": [],
   "source": []
  },
  {
   "cell_type": "markdown",
   "metadata": {},
   "source": [
    "# Анализ структуры данных"
   ]
  },
  {
   "cell_type": "code",
   "execution_count": 80,
   "metadata": {},
   "outputs": [
    {
     "data": {
      "text/html": [
       "<div>\n",
       "<style scoped>\n",
       "    .dataframe tbody tr th:only-of-type {\n",
       "        vertical-align: middle;\n",
       "    }\n",
       "\n",
       "    .dataframe tbody tr th {\n",
       "        vertical-align: top;\n",
       "    }\n",
       "\n",
       "    .dataframe thead th {\n",
       "        text-align: right;\n",
       "    }\n",
       "</style>\n",
       "<table border=\"1\" class=\"dataframe\">\n",
       "  <thead>\n",
       "    <tr style=\"text-align: right;\">\n",
       "      <th></th>\n",
       "      <th>time</th>\n",
       "      <th>string</th>\n",
       "      <th>addr</th>\n",
       "      <th>port</th>\n",
       "      <th>addr.1</th>\n",
       "      <th>port.1</th>\n",
       "      <th>enum</th>\n",
       "      <th>string.1</th>\n",
       "      <th>interval</th>\n",
       "      <th>count</th>\n",
       "      <th>...</th>\n",
       "      <th>bool.1</th>\n",
       "      <th>count.2</th>\n",
       "      <th>string.3</th>\n",
       "      <th>count.3</th>\n",
       "      <th>count.4</th>\n",
       "      <th>count.5</th>\n",
       "      <th>count.6</th>\n",
       "      <th>set[string]</th>\n",
       "      <th>string.4</th>\n",
       "      <th>string.5</th>\n",
       "    </tr>\n",
       "  </thead>\n",
       "  <tbody>\n",
       "    <tr>\n",
       "      <td>0</td>\n",
       "      <td>2019-09-20 00:40:58.775321960</td>\n",
       "      <td>CEjjLs1iwWYrt8C4O6</td>\n",
       "      <td>192.168.1.195</td>\n",
       "      <td>123</td>\n",
       "      <td>212.111.30.190</td>\n",
       "      <td>123</td>\n",
       "      <td>udp</td>\n",
       "      <td>-</td>\n",
       "      <td>0.008239</td>\n",
       "      <td>96</td>\n",
       "      <td>...</td>\n",
       "      <td>-</td>\n",
       "      <td>0</td>\n",
       "      <td>Dd</td>\n",
       "      <td>2</td>\n",
       "      <td>152</td>\n",
       "      <td>2</td>\n",
       "      <td>152</td>\n",
       "      <td>-</td>\n",
       "      <td>Benign</td>\n",
       "      <td>-</td>\n",
       "    </tr>\n",
       "    <tr>\n",
       "      <td>1</td>\n",
       "      <td>2019-09-20 00:41:59.775273085</td>\n",
       "      <td>CHNzmm3tMu5Gse9Zvg</td>\n",
       "      <td>192.168.1.195</td>\n",
       "      <td>123</td>\n",
       "      <td>89.221.218.101</td>\n",
       "      <td>123</td>\n",
       "      <td>udp</td>\n",
       "      <td>-</td>\n",
       "      <td>0.007496</td>\n",
       "      <td>96</td>\n",
       "      <td>...</td>\n",
       "      <td>-</td>\n",
       "      <td>0</td>\n",
       "      <td>Dd</td>\n",
       "      <td>2</td>\n",
       "      <td>152</td>\n",
       "      <td>2</td>\n",
       "      <td>152</td>\n",
       "      <td>-</td>\n",
       "      <td>Benign</td>\n",
       "      <td>-</td>\n",
       "    </tr>\n",
       "    <tr>\n",
       "      <td>2</td>\n",
       "      <td>2019-09-20 00:43:51.016249895</td>\n",
       "      <td>CDlbowGNUwsHckADd</td>\n",
       "      <td>192.168.1.195</td>\n",
       "      <td>37120</td>\n",
       "      <td>102.165.48.81</td>\n",
       "      <td>17769</td>\n",
       "      <td>tcp</td>\n",
       "      <td>-</td>\n",
       "      <td>1.848549</td>\n",
       "      <td>518</td>\n",
       "      <td>...</td>\n",
       "      <td>-</td>\n",
       "      <td>0</td>\n",
       "      <td>ShAdfDr</td>\n",
       "      <td>10</td>\n",
       "      <td>1572</td>\n",
       "      <td>8</td>\n",
       "      <td>540</td>\n",
       "      <td>-</td>\n",
       "      <td>Malicious</td>\n",
       "      <td>C&amp;C-HeartBeat</td>\n",
       "    </tr>\n",
       "    <tr>\n",
       "      <td>3</td>\n",
       "      <td>2019-09-20 00:40:41.665907145</td>\n",
       "      <td>CxKxhj4MGsf5GcqoX6</td>\n",
       "      <td>192.168.1.1</td>\n",
       "      <td>47805</td>\n",
       "      <td>192.168.1.195</td>\n",
       "      <td>22</td>\n",
       "      <td>tcp</td>\n",
       "      <td>-</td>\n",
       "      <td>206.663644</td>\n",
       "      <td>2768</td>\n",
       "      <td>...</td>\n",
       "      <td>-</td>\n",
       "      <td>0</td>\n",
       "      <td>DdAaFf</td>\n",
       "      <td>400</td>\n",
       "      <td>26336</td>\n",
       "      <td>268</td>\n",
       "      <td>36368</td>\n",
       "      <td>-</td>\n",
       "      <td>Benign</td>\n",
       "      <td>-</td>\n",
       "    </tr>\n",
       "    <tr>\n",
       "      <td>4</td>\n",
       "      <td>2019-09-20 00:44:11.392718077</td>\n",
       "      <td>C2n3PK3bA92hAgTHda</td>\n",
       "      <td>192.168.1.195</td>\n",
       "      <td>37122</td>\n",
       "      <td>102.165.48.81</td>\n",
       "      <td>17769</td>\n",
       "      <td>tcp</td>\n",
       "      <td>-</td>\n",
       "      <td>1.902519</td>\n",
       "      <td>518</td>\n",
       "      <td>...</td>\n",
       "      <td>-</td>\n",
       "      <td>0</td>\n",
       "      <td>ShAdfDr</td>\n",
       "      <td>10</td>\n",
       "      <td>1572</td>\n",
       "      <td>8</td>\n",
       "      <td>540</td>\n",
       "      <td>-</td>\n",
       "      <td>Malicious</td>\n",
       "      <td>C&amp;C-HeartBeat</td>\n",
       "    </tr>\n",
       "  </tbody>\n",
       "</table>\n",
       "<p>5 rows × 23 columns</p>\n",
       "</div>"
      ],
      "text/plain": [
       "                           time              string           addr   port  \\\n",
       "0 2019-09-20 00:40:58.775321960  CEjjLs1iwWYrt8C4O6  192.168.1.195    123   \n",
       "1 2019-09-20 00:41:59.775273085  CHNzmm3tMu5Gse9Zvg  192.168.1.195    123   \n",
       "2 2019-09-20 00:43:51.016249895   CDlbowGNUwsHckADd  192.168.1.195  37120   \n",
       "3 2019-09-20 00:40:41.665907145  CxKxhj4MGsf5GcqoX6    192.168.1.1  47805   \n",
       "4 2019-09-20 00:44:11.392718077  C2n3PK3bA92hAgTHda  192.168.1.195  37122   \n",
       "\n",
       "           addr.1  port.1 enum string.1    interval count  ... bool.1 count.2  \\\n",
       "0  212.111.30.190     123  udp        -    0.008239    96  ...      -       0   \n",
       "1  89.221.218.101     123  udp        -    0.007496    96  ...      -       0   \n",
       "2   102.165.48.81   17769  tcp        -    1.848549   518  ...      -       0   \n",
       "3   192.168.1.195      22  tcp        -  206.663644  2768  ...      -       0   \n",
       "4   102.165.48.81   17769  tcp        -    1.902519   518  ...      -       0   \n",
       "\n",
       "  string.3 count.3  count.4 count.5  count.6  set[string]   string.4  \\\n",
       "0       Dd       2      152       2      152            -     Benign   \n",
       "1       Dd       2      152       2      152            -     Benign   \n",
       "2  ShAdfDr      10     1572       8      540            -  Malicious   \n",
       "3   DdAaFf     400    26336     268    36368            -     Benign   \n",
       "4  ShAdfDr      10     1572       8      540            -  Malicious   \n",
       "\n",
       "        string.5  \n",
       "0              -  \n",
       "1              -  \n",
       "2  C&C-HeartBeat  \n",
       "3              -  \n",
       "4  C&C-HeartBeat  \n",
       "\n",
       "[5 rows x 23 columns]"
      ]
     },
     "execution_count": 80,
     "metadata": {},
     "output_type": "execute_result"
    }
   ],
   "source": [
    "df.head()\n",
    "# вывод шапки датасета"
   ]
  },
  {
   "cell_type": "code",
   "execution_count": 89,
   "metadata": {},
   "outputs": [
    {
     "data": {
      "text/plain": [
       "(5410561, 23)"
      ]
     },
     "execution_count": 89,
     "metadata": {},
     "output_type": "execute_result"
    }
   ],
   "source": [
    "df.shape\n",
    "# вывод размерности датасета"
   ]
  },
  {
   "cell_type": "code",
   "execution_count": 81,
   "metadata": {},
   "outputs": [
    {
     "data": {
      "text/plain": [
       "DDoS             3578457\n",
       "-                   2476\n",
       "C&C-HeartBeat         95\n",
       "Name: string.5, dtype: int64"
      ]
     },
     "execution_count": 81,
     "metadata": {},
     "output_type": "execute_result"
    }
   ],
   "source": [
    "df['string.5'].value_counts()\n",
    "# вывод какие целевые признаки присутствуют"
   ]
  },
  {
   "cell_type": "code",
   "execution_count": 85,
   "metadata": {},
   "outputs": [
    {
     "data": {
      "text/plain": [
       "192.168.1.195      3579013\n",
       "162.248.88.215        2013\n",
       "192.168.1.1              1\n",
       "184.103.250.171          1\n",
       "Name: addr, dtype: int64"
      ]
     },
     "execution_count": 85,
     "metadata": {},
     "output_type": "execute_result"
    }
   ],
   "source": [
    "df['addr'].value_counts()"
   ]
  },
  {
   "cell_type": "code",
   "execution_count": 43,
   "metadata": {
    "collapsed": true,
    "jupyter": {
     "outputs_hidden": true
    }
   },
   "outputs": [
    {
     "data": {
      "text/plain": [
       "time           0\n",
       "string         0\n",
       "addr           0\n",
       "port           0\n",
       "addr.1         0\n",
       "port.1         0\n",
       "enum           0\n",
       "string.1       0\n",
       "interval       0\n",
       "count          0\n",
       "count.1        0\n",
       "string.2       0\n",
       "bool           0\n",
       "bool.1         0\n",
       "count.2        0\n",
       "string.3       0\n",
       "count.3        0\n",
       "count.4        0\n",
       "count.5        0\n",
       "count.6        0\n",
       "set[string]    0\n",
       "string.4       0\n",
       "dtype: int64"
      ]
     },
     "execution_count": 43,
     "metadata": {},
     "output_type": "execute_result"
    }
   ],
   "source": [
    "x.isnull().sum()\n",
    "# проверка на наличие пропущенных значений"
   ]
  },
  {
   "cell_type": "code",
   "execution_count": 8,
   "metadata": {
    "collapsed": true
   },
   "outputs": [
    {
     "name": "stdout",
     "output_type": "stream",
     "text": [
      "<class 'pandas.core.frame.DataFrame'>\n",
      "RangeIndex: 1008748 entries, 0 to 1008747\n",
      "Data columns (total 23 columns):\n",
      "time           1008748 non-null float64\n",
      "string         1008748 non-null object\n",
      "addr           1008748 non-null object\n",
      "port           1008748 non-null int64\n",
      "addr.1         1008748 non-null object\n",
      "port.1         1008748 non-null int64\n",
      "enum           1008748 non-null object\n",
      "string.1       1008748 non-null object\n",
      "interval       1008748 non-null object\n",
      "count          1008748 non-null object\n",
      "count.1        1008748 non-null object\n",
      "string.2       1008748 non-null object\n",
      "bool           1008748 non-null object\n",
      "bool.1         1008748 non-null object\n",
      "count.2        1008748 non-null int64\n",
      "string.3       1008748 non-null object\n",
      "count.3        1008748 non-null int64\n",
      "count.4        1008748 non-null int64\n",
      "count.5        1008748 non-null int64\n",
      "count.6        1008748 non-null int64\n",
      "set[string]    1008748 non-null object\n",
      "string.4       1008748 non-null object\n",
      "string.5       1008748 non-null object\n",
      "dtypes: float64(1), int64(7), object(15)\n",
      "memory usage: 177.0+ MB\n"
     ]
    }
   ],
   "source": [
    "df.info()\n",
    "# я тут смотрю типы всех признаков"
   ]
  },
  {
   "cell_type": "code",
   "execution_count": 20,
   "metadata": {
    "scrolled": true
   },
   "outputs": [
    {
     "data": {
      "text/html": [
       "<div>\n",
       "<style scoped>\n",
       "    .dataframe tbody tr th:only-of-type {\n",
       "        vertical-align: middle;\n",
       "    }\n",
       "\n",
       "    .dataframe tbody tr th {\n",
       "        vertical-align: top;\n",
       "    }\n",
       "\n",
       "    .dataframe thead th {\n",
       "        text-align: right;\n",
       "    }\n",
       "</style>\n",
       "<table border=\"1\" class=\"dataframe\">\n",
       "  <thead>\n",
       "    <tr style=\"text-align: right;\">\n",
       "      <th></th>\n",
       "      <th>port</th>\n",
       "      <th>port.1</th>\n",
       "      <th>count.2</th>\n",
       "      <th>count.3</th>\n",
       "      <th>count.4</th>\n",
       "      <th>count.5</th>\n",
       "      <th>count.6</th>\n",
       "    </tr>\n",
       "  </thead>\n",
       "  <tbody>\n",
       "    <tr>\n",
       "      <td>count</td>\n",
       "      <td>1.044779e+07</td>\n",
       "      <td>1.044779e+07</td>\n",
       "      <td>1.044779e+07</td>\n",
       "      <td>1.044779e+07</td>\n",
       "      <td>1.044779e+07</td>\n",
       "      <td>1.044779e+07</td>\n",
       "      <td>1.044779e+07</td>\n",
       "    </tr>\n",
       "    <tr>\n",
       "      <td>mean</td>\n",
       "      <td>4.392035e+04</td>\n",
       "      <td>1.226664e+02</td>\n",
       "      <td>1.827036e+02</td>\n",
       "      <td>4.480689e+00</td>\n",
       "      <td>1.925015e+02</td>\n",
       "      <td>1.177666e-03</td>\n",
       "      <td>5.034089e-01</td>\n",
       "    </tr>\n",
       "    <tr>\n",
       "      <td>std</td>\n",
       "      <td>1.268259e+04</td>\n",
       "      <td>2.903562e+02</td>\n",
       "      <td>5.905446e+05</td>\n",
       "      <td>2.624295e+03</td>\n",
       "      <td>7.348052e+04</td>\n",
       "      <td>1.454875e+00</td>\n",
       "      <td>3.971355e+02</td>\n",
       "    </tr>\n",
       "    <tr>\n",
       "      <td>min</td>\n",
       "      <td>0.000000e+00</td>\n",
       "      <td>0.000000e+00</td>\n",
       "      <td>0.000000e+00</td>\n",
       "      <td>0.000000e+00</td>\n",
       "      <td>0.000000e+00</td>\n",
       "      <td>0.000000e+00</td>\n",
       "      <td>0.000000e+00</td>\n",
       "    </tr>\n",
       "    <tr>\n",
       "      <td>25%</td>\n",
       "      <td>3.742200e+04</td>\n",
       "      <td>2.300000e+01</td>\n",
       "      <td>0.000000e+00</td>\n",
       "      <td>1.000000e+00</td>\n",
       "      <td>6.000000e+01</td>\n",
       "      <td>0.000000e+00</td>\n",
       "      <td>0.000000e+00</td>\n",
       "    </tr>\n",
       "    <tr>\n",
       "      <td>50%</td>\n",
       "      <td>4.544000e+04</td>\n",
       "      <td>2.300000e+01</td>\n",
       "      <td>0.000000e+00</td>\n",
       "      <td>3.000000e+00</td>\n",
       "      <td>1.200000e+02</td>\n",
       "      <td>0.000000e+00</td>\n",
       "      <td>0.000000e+00</td>\n",
       "    </tr>\n",
       "    <tr>\n",
       "      <td>75%</td>\n",
       "      <td>5.345000e+04</td>\n",
       "      <td>2.300000e+01</td>\n",
       "      <td>0.000000e+00</td>\n",
       "      <td>3.000000e+00</td>\n",
       "      <td>1.800000e+02</td>\n",
       "      <td>0.000000e+00</td>\n",
       "      <td>0.000000e+00</td>\n",
       "    </tr>\n",
       "    <tr>\n",
       "      <td>max</td>\n",
       "      <td>6.553500e+04</td>\n",
       "      <td>5.998400e+04</td>\n",
       "      <td>1.908819e+09</td>\n",
       "      <td>4.216883e+06</td>\n",
       "      <td>1.180727e+08</td>\n",
       "      <td>4.621000e+03</td>\n",
       "      <td>4.134880e+05</td>\n",
       "    </tr>\n",
       "  </tbody>\n",
       "</table>\n",
       "</div>"
      ],
      "text/plain": [
       "               port        port.1       count.2       count.3       count.4  \\\n",
       "count  1.044779e+07  1.044779e+07  1.044779e+07  1.044779e+07  1.044779e+07   \n",
       "mean   4.392035e+04  1.226664e+02  1.827036e+02  4.480689e+00  1.925015e+02   \n",
       "std    1.268259e+04  2.903562e+02  5.905446e+05  2.624295e+03  7.348052e+04   \n",
       "min    0.000000e+00  0.000000e+00  0.000000e+00  0.000000e+00  0.000000e+00   \n",
       "25%    3.742200e+04  2.300000e+01  0.000000e+00  1.000000e+00  6.000000e+01   \n",
       "50%    4.544000e+04  2.300000e+01  0.000000e+00  3.000000e+00  1.200000e+02   \n",
       "75%    5.345000e+04  2.300000e+01  0.000000e+00  3.000000e+00  1.800000e+02   \n",
       "max    6.553500e+04  5.998400e+04  1.908819e+09  4.216883e+06  1.180727e+08   \n",
       "\n",
       "            count.5       count.6  \n",
       "count  1.044779e+07  1.044779e+07  \n",
       "mean   1.177666e-03  5.034089e-01  \n",
       "std    1.454875e+00  3.971355e+02  \n",
       "min    0.000000e+00  0.000000e+00  \n",
       "25%    0.000000e+00  0.000000e+00  \n",
       "50%    0.000000e+00  0.000000e+00  \n",
       "75%    0.000000e+00  0.000000e+00  \n",
       "max    4.621000e+03  4.134880e+05  "
      ]
     },
     "execution_count": 20,
     "metadata": {},
     "output_type": "execute_result"
    }
   ],
   "source": [
    "df.describe()\n",
    "# полезная мат стата для числовых признаков"
   ]
  },
  {
   "cell_type": "code",
   "execution_count": 62,
   "metadata": {},
   "outputs": [
    {
     "data": {
      "text/html": [
       "<div>\n",
       "<table border=\"1\" class=\"dataframe\">\n",
       "  <thead>\n",
       "    <tr style=\"text-align: right;\">\n",
       "      <th></th>\n",
       "      <th>port</th>\n",
       "      <th>port.1</th>\n",
       "      <th>count.2</th>\n",
       "      <th>count.3</th>\n",
       "      <th>count.4</th>\n",
       "      <th>count.5</th>\n",
       "      <th>count.6</th>\n",
       "    </tr>\n",
       "  </thead>\n",
       "  <tbody>\n",
       "    <tr>\n",
       "      <th>port</th>\n",
       "      <td>1.000000</td>\n",
       "      <td>-0.151648</td>\n",
       "      <td>-0.018477</td>\n",
       "      <td>-0.038584</td>\n",
       "      <td>-0.005219</td>\n",
       "      <td>-0.035173</td>\n",
       "      <td>-0.027266</td>\n",
       "    </tr>\n",
       "    <tr>\n",
       "      <th>port.1</th>\n",
       "      <td>-0.151648</td>\n",
       "      <td>1.000000</td>\n",
       "      <td>-0.008687</td>\n",
       "      <td>0.106227</td>\n",
       "      <td>0.005154</td>\n",
       "      <td>0.046171</td>\n",
       "      <td>0.004563</td>\n",
       "    </tr>\n",
       "    <tr>\n",
       "      <th>count.2</th>\n",
       "      <td>-0.018477</td>\n",
       "      <td>-0.008687</td>\n",
       "      <td>1.000000</td>\n",
       "      <td>0.008825</td>\n",
       "      <td>0.000049</td>\n",
       "      <td>0.198674</td>\n",
       "      <td>0.873288</td>\n",
       "    </tr>\n",
       "    <tr>\n",
       "      <th>count.3</th>\n",
       "      <td>-0.038584</td>\n",
       "      <td>0.106227</td>\n",
       "      <td>0.008825</td>\n",
       "      <td>1.000000</td>\n",
       "      <td>0.686961</td>\n",
       "      <td>0.027778</td>\n",
       "      <td>0.015651</td>\n",
       "    </tr>\n",
       "    <tr>\n",
       "      <th>count.4</th>\n",
       "      <td>-0.005219</td>\n",
       "      <td>0.005154</td>\n",
       "      <td>0.000049</td>\n",
       "      <td>0.686961</td>\n",
       "      <td>1.000000</td>\n",
       "      <td>0.000235</td>\n",
       "      <td>0.000091</td>\n",
       "    </tr>\n",
       "    <tr>\n",
       "      <th>count.5</th>\n",
       "      <td>-0.035173</td>\n",
       "      <td>0.046171</td>\n",
       "      <td>0.198674</td>\n",
       "      <td>0.027778</td>\n",
       "      <td>0.000235</td>\n",
       "      <td>1.000000</td>\n",
       "      <td>0.437721</td>\n",
       "    </tr>\n",
       "    <tr>\n",
       "      <th>count.6</th>\n",
       "      <td>-0.027266</td>\n",
       "      <td>0.004563</td>\n",
       "      <td>0.873288</td>\n",
       "      <td>0.015651</td>\n",
       "      <td>0.000091</td>\n",
       "      <td>0.437721</td>\n",
       "      <td>1.000000</td>\n",
       "    </tr>\n",
       "  </tbody>\n",
       "</table>\n",
       "</div>"
      ],
      "text/plain": [
       "             port    port.1   count.2   count.3   count.4   count.5   count.6\n",
       "port     1.000000 -0.151648 -0.018477 -0.038584 -0.005219 -0.035173 -0.027266\n",
       "port.1  -0.151648  1.000000 -0.008687  0.106227  0.005154  0.046171  0.004563\n",
       "count.2 -0.018477 -0.008687  1.000000  0.008825  0.000049  0.198674  0.873288\n",
       "count.3 -0.038584  0.106227  0.008825  1.000000  0.686961  0.027778  0.015651\n",
       "count.4 -0.005219  0.005154  0.000049  0.686961  1.000000  0.000235  0.000091\n",
       "count.5 -0.035173  0.046171  0.198674  0.027778  0.000235  1.000000  0.437721\n",
       "count.6 -0.027266  0.004563  0.873288  0.015651  0.000091  0.437721  1.000000"
      ]
     },
     "execution_count": 62,
     "metadata": {},
     "output_type": "execute_result"
    }
   ],
   "source": [
    "df.corr()\n",
    "# корреляция числовых признаков"
   ]
  },
  {
   "cell_type": "code",
   "execution_count": null,
   "metadata": {},
   "outputs": [],
   "source": []
  },
  {
   "cell_type": "markdown",
   "metadata": {},
   "source": [
    "# Описание преобразования признаков"
   ]
  },
  {
   "cell_type": "code",
   "execution_count": null,
   "metadata": {},
   "outputs": [],
   "source": [
    "# 1. bool и bool.1 выкинул т.к. в данной выборке они одинаковы у всех обьектов и равны \"-\"\n",
    "# 2. Из time взял два признака day - показывает день в году, когда было данное событие\n",
    "# и признак hour - показывает в каком часу было  событие, сам признак time удалил\n",
    "# 3. признаки enum, string.1, set[string] были преобразованы в новые признаки методом ван хот\n",
    "# enum(icmp), enum(tcp), enum(upd) и string.1(irc), string.1(ssh), string.1(ssl), string.1(dhcp),\n",
    "# string.1(http), string.1(dns), string.1(-) и set[string](-), set[string]((empty)) соответственно\n",
    "# 4. значения равные '-' в признаках interval, count, count.1 были заменены на -1, после\n",
    "# чего данные признаки были приведены к числовому типу\n",
    "# 5. признак string имеет число значений равное числу событий и визуально похож на хэш,\n",
    "# из за этого он не несет полезных данных для модели и был удален\n",
    "# 6. признаки string.2, string.3 и addr, addr.1 были приведены к числовым лабел кодером\n",
    "#"
   ]
  },
  {
   "cell_type": "code",
   "execution_count": null,
   "metadata": {},
   "outputs": [],
   "source": [
    "big = big.drop('Unnamed:', axis = 1)\n",
    "# выкидывает признак из датафрейма"
   ]
  },
  {
   "cell_type": "code",
   "execution_count": null,
   "metadata": {},
   "outputs": [],
   "source": [
    "ohe = ColumnTransformer([(\"One hot\", OneHotEncoder(sparse=False),[6])])\n",
    "# создаем модель энкодера\n",
    "# P.S. из-за ошибки в библиотеке номер столбца задается здесь, а не именем/номером при обучении"
   ]
  },
  {
   "cell_type": "code",
   "execution_count": null,
   "metadata": {},
   "outputs": [],
   "source": [
    "x_1 = pd.DataFrame(ohe.fit_transform(big))\n",
    "# создаем датафрейм с новыми признаками полученными из одного старого\n",
    "# P.S. Можно инсертом его сразу запихать в основной датафрейм, но я переименовывал столбцы в нем\n",
    "# и запихивал по одному для большей интепретации модели, более простой способ не нашел пока"
   ]
  },
  {
   "cell_type": "code",
   "execution_count": 16,
   "metadata": {
    "scrolled": false
   },
   "outputs": [
    {
     "data": {
      "text/html": [
       "<div>\n",
       "<style scoped>\n",
       "    .dataframe tbody tr th:only-of-type {\n",
       "        vertical-align: middle;\n",
       "    }\n",
       "\n",
       "    .dataframe tbody tr th {\n",
       "        vertical-align: top;\n",
       "    }\n",
       "\n",
       "    .dataframe thead th {\n",
       "        text-align: right;\n",
       "    }\n",
       "</style>\n",
       "<table border=\"1\" class=\"dataframe\">\n",
       "  <thead>\n",
       "    <tr style=\"text-align: right;\">\n",
       "      <th></th>\n",
       "      <th>0</th>\n",
       "      <th>1</th>\n",
       "      <th>2</th>\n",
       "      <th>3</th>\n",
       "    </tr>\n",
       "  </thead>\n",
       "  <tbody>\n",
       "    <tr>\n",
       "      <td>0</td>\n",
       "      <td>0.0</td>\n",
       "      <td>0.0</td>\n",
       "      <td>0.0</td>\n",
       "      <td>1.0</td>\n",
       "    </tr>\n",
       "    <tr>\n",
       "      <td>1</td>\n",
       "      <td>0.0</td>\n",
       "      <td>0.0</td>\n",
       "      <td>0.0</td>\n",
       "      <td>1.0</td>\n",
       "    </tr>\n",
       "    <tr>\n",
       "      <td>2</td>\n",
       "      <td>0.0</td>\n",
       "      <td>0.0</td>\n",
       "      <td>0.0</td>\n",
       "      <td>1.0</td>\n",
       "    </tr>\n",
       "    <tr>\n",
       "      <td>3</td>\n",
       "      <td>1.0</td>\n",
       "      <td>0.0</td>\n",
       "      <td>0.0</td>\n",
       "      <td>0.0</td>\n",
       "    </tr>\n",
       "    <tr>\n",
       "      <td>4</td>\n",
       "      <td>0.0</td>\n",
       "      <td>0.0</td>\n",
       "      <td>0.0</td>\n",
       "      <td>1.0</td>\n",
       "    </tr>\n",
       "  </tbody>\n",
       "</table>\n",
       "</div>"
      ],
      "text/plain": [
       "     0    1    2    3\n",
       "0  0.0  0.0  0.0  1.0\n",
       "1  0.0  0.0  0.0  1.0\n",
       "2  0.0  0.0  0.0  1.0\n",
       "3  1.0  0.0  0.0  0.0\n",
       "4  0.0  0.0  0.0  1.0"
      ]
     },
     "execution_count": 16,
     "metadata": {},
     "output_type": "execute_result"
    }
   ],
   "source": [
    "x_1.head()\n",
    "# пример такого фрейма"
   ]
  },
  {
   "cell_type": "code",
   "execution_count": null,
   "metadata": {},
   "outputs": [],
   "source": [
    "big.loc[big['interval'] == '-', 'interval'] = '-1'\n",
    "# меняем все значения \"-\" в признаке на число\n",
    "big['interval']=big['interval'].astype(float)\n",
    "# преобразуем качественный признак в числовой"
   ]
  },
  {
   "cell_type": "code",
   "execution_count": null,
   "metadata": {},
   "outputs": [],
   "source": [
    "labelencoder = LabelEncoder()\n",
    "# создаем модель энкодера\n",
    "big[\"addr.1\"] = labelencoder.fit_transform(big[\"addr.1\"])\n",
    "# заменяем значение признака на числа 1,2,3 и тд."
   ]
  },
  {
   "cell_type": "code",
   "execution_count": null,
   "metadata": {},
   "outputs": [],
   "source": []
  },
  {
   "cell_type": "markdown",
   "metadata": {},
   "source": [
    "# Визуализация данных"
   ]
  },
  {
   "cell_type": "code",
   "execution_count": 72,
   "metadata": {},
   "outputs": [],
   "source": [
    "plt.rcParams['figure.figsize'] = [12, 6]\n",
    "# определяет размер графиков по умолчанию"
   ]
  },
  {
   "cell_type": "code",
   "execution_count": 73,
   "metadata": {},
   "outputs": [
    {
     "data": {
      "image/png": "[encoded data removed]",
      "text/plain": [
       "<Figure size 864x432 with 1 Axes>"
      ]
     },
     "metadata": {
      "needs_background": "light"
     },
     "output_type": "display_data"
    }
   ],
   "source": [
    "sns.countplot(x = date, hue = 'string.5', data = df);\n",
    "# визуализация целевого признака по дням"
   ]
  },
  {
   "cell_type": "code",
   "execution_count": null,
   "metadata": {},
   "outputs": [],
   "source": []
  },
  {
   "cell_type": "code",
   "execution_count": null,
   "metadata": {},
   "outputs": [],
   "source": []
  },
  {
   "cell_type": "code",
   "execution_count": 55,
   "metadata": {},
   "outputs": [],
   "source": [
    "# в big датасет были сложены данные без ярких выбросов\n",
    "# (1,3,8,20,21,34,42,44 и 4,5,7 с нормальным трафиком)\n",
    "date = big['time'].dt.date\n",
    "# получаем массив дней без времени\n",
    "hour = big['time'].apply(lambda x: x.hour)\n",
    "# получаем массив часов без даты и минут"
   ]
  },
  {
   "cell_type": "code",
   "execution_count": 60,
   "metadata": {
    "scrolled": false
   },
   "outputs": [
    {
     "data": {
      "image/png": "[encoded data removed]",
      "text/plain": [
       "<Figure size 1296x648 with 1 Axes>"
      ]
     },
     "metadata": {
      "needs_background": "light"
     },
     "output_type": "display_data"
    }
   ],
   "source": [
    "hour = big['time'].apply(lambda x: x.hour)sns.countplot(x = hour, hue = 'string.5', data = big);\n",
    "# трафик в зависимости от часа дня для big"
   ]
  },
  {
   "cell_type": "code",
   "execution_count": 82,
   "metadata": {},
   "outputs": [
    {
     "data": {
      "image/png": "[encoded data removed]",
      "text/plain": [
       "<Figure size 864x432 with 9 Axes>"
      ]
     },
     "metadata": {
      "needs_background": "light"
     },
     "output_type": "display_data"
    }
   ],
   "source": [
    "df.hist();\n",
    "# графики для быстрого анализа"
   ]
  },
  {
   "cell_type": "code",
   "execution_count": null,
   "metadata": {},
   "outputs": [],
   "source": []
  },
  {
   "cell_type": "code",
   "execution_count": null,
   "metadata": {},
   "outputs": [],
   "source": []
  },
  {
   "cell_type": "code",
   "execution_count": null,
   "metadata": {},
   "outputs": [],
   "source": []
  }
 ],
 "metadata": {
  "anaconda-cloud": {},
  "kernelspec": {
   "display_name": "Python 3",
   "language": "python",
   "name": "python3"
  },
  "language_info": {
   "codemirror_mode": {
    "name": "ipython",
    "version": 3
   },
   "file_extension": ".py",
   "mimetype": "text/x-python",
   "name": "python",
   "nbconvert_exporter": "python",
   "pygments_lexer": "ipython3",
   "version": "3.7.4"
  }
 },
 "nbformat": 4,
 "nbformat_minor": 4
}
